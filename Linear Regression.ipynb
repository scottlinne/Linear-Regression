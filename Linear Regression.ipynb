{
 "cells": [
  {
   "cell_type": "markdown",
   "metadata": {},
   "source": [
    "# <center> Linear Regression - Final Challenge 2</center>\n",
    "## <br/><center>Scott Linne <br/>September 2018</center>"
   ]
  },
  {
   "cell_type": "code",
   "execution_count": 1,
   "metadata": {
    "collapsed": true
   },
   "outputs": [],
   "source": [
    "# import libraries\n",
    "import pandas as pd\n",
    "import numpy as np\n",
    "import datetime\n",
    "from sklearn import preprocessing\n",
    "from sklearn.tree import DecisionTreeRegressor\n",
    "from sklearn.linear_model import LinearRegression\n",
    "from sklearn.model_selection import train_test_split\n",
    "from sklearn.metrics import mean_squared_error\n",
    "from math import sqrt\n",
    "%matplotlib inline"
   ]
  },
  {
   "cell_type": "markdown",
   "metadata": {},
   "source": [
    "# Read Data from course spreadsheet files"
   ]
  },
  {
   "cell_type": "code",
   "execution_count": 2,
   "metadata": {
    "collapsed": true
   },
   "outputs": [],
   "source": [
    "AveMonthSpend = pd.read_csv('AW_AveMonthSpend.csv')\n",
    "BikeBuyer = pd.read_csv('AW_BikeBuyer.csv')\n",
    "AdvWorksCusts = pd.read_csv('AdvWorksCusts.csv')\n",
    "AW_Test = pd.read_csv('AW_test.csv')"
   ]
  },
  {
   "cell_type": "markdown",
   "metadata": {},
   "source": [
    "## Check data loaded by looking at top rows of each dataset"
   ]
  },
  {
   "cell_type": "code",
   "execution_count": 3,
   "metadata": {},
   "outputs": [
    {
     "data": {
      "text/html": [
       "<div>\n",
       "<style>\n",
       "    .dataframe thead tr:only-child th {\n",
       "        text-align: right;\n",
       "    }\n",
       "\n",
       "    .dataframe thead th {\n",
       "        text-align: left;\n",
       "    }\n",
       "\n",
       "    .dataframe tbody tr th {\n",
       "        vertical-align: top;\n",
       "    }\n",
       "</style>\n",
       "<table border=\"1\" class=\"dataframe\">\n",
       "  <thead>\n",
       "    <tr style=\"text-align: right;\">\n",
       "      <th></th>\n",
       "      <th>CustomerID</th>\n",
       "      <th>AveMonthSpend</th>\n",
       "    </tr>\n",
       "  </thead>\n",
       "  <tbody>\n",
       "    <tr>\n",
       "      <th>0</th>\n",
       "      <td>11000</td>\n",
       "      <td>89</td>\n",
       "    </tr>\n",
       "    <tr>\n",
       "      <th>1</th>\n",
       "      <td>11001</td>\n",
       "      <td>117</td>\n",
       "    </tr>\n",
       "    <tr>\n",
       "      <th>2</th>\n",
       "      <td>11002</td>\n",
       "      <td>123</td>\n",
       "    </tr>\n",
       "    <tr>\n",
       "      <th>3</th>\n",
       "      <td>11003</td>\n",
       "      <td>50</td>\n",
       "    </tr>\n",
       "    <tr>\n",
       "      <th>4</th>\n",
       "      <td>11004</td>\n",
       "      <td>95</td>\n",
       "    </tr>\n",
       "  </tbody>\n",
       "</table>\n",
       "</div>"
      ],
      "text/plain": [
       "   CustomerID  AveMonthSpend\n",
       "0       11000             89\n",
       "1       11001            117\n",
       "2       11002            123\n",
       "3       11003             50\n",
       "4       11004             95"
      ]
     },
     "execution_count": 3,
     "metadata": {},
     "output_type": "execute_result"
    }
   ],
   "source": [
    "AveMonthSpend.head()"
   ]
  },
  {
   "cell_type": "code",
   "execution_count": 4,
   "metadata": {},
   "outputs": [
    {
     "data": {
      "text/html": [
       "<div>\n",
       "<style>\n",
       "    .dataframe thead tr:only-child th {\n",
       "        text-align: right;\n",
       "    }\n",
       "\n",
       "    .dataframe thead th {\n",
       "        text-align: left;\n",
       "    }\n",
       "\n",
       "    .dataframe tbody tr th {\n",
       "        vertical-align: top;\n",
       "    }\n",
       "</style>\n",
       "<table border=\"1\" class=\"dataframe\">\n",
       "  <thead>\n",
       "    <tr style=\"text-align: right;\">\n",
       "      <th></th>\n",
       "      <th>CustomerID</th>\n",
       "      <th>BikeBuyer</th>\n",
       "    </tr>\n",
       "  </thead>\n",
       "  <tbody>\n",
       "    <tr>\n",
       "      <th>0</th>\n",
       "      <td>11000</td>\n",
       "      <td>0</td>\n",
       "    </tr>\n",
       "    <tr>\n",
       "      <th>1</th>\n",
       "      <td>11001</td>\n",
       "      <td>1</td>\n",
       "    </tr>\n",
       "    <tr>\n",
       "      <th>2</th>\n",
       "      <td>11002</td>\n",
       "      <td>0</td>\n",
       "    </tr>\n",
       "    <tr>\n",
       "      <th>3</th>\n",
       "      <td>11003</td>\n",
       "      <td>0</td>\n",
       "    </tr>\n",
       "    <tr>\n",
       "      <th>4</th>\n",
       "      <td>11004</td>\n",
       "      <td>1</td>\n",
       "    </tr>\n",
       "  </tbody>\n",
       "</table>\n",
       "</div>"
      ],
      "text/plain": [
       "   CustomerID  BikeBuyer\n",
       "0       11000          0\n",
       "1       11001          1\n",
       "2       11002          0\n",
       "3       11003          0\n",
       "4       11004          1"
      ]
     },
     "execution_count": 4,
     "metadata": {},
     "output_type": "execute_result"
    }
   ],
   "source": [
    "BikeBuyer.head()"
   ]
  },
  {
   "cell_type": "code",
   "execution_count": 5,
   "metadata": {},
   "outputs": [
    {
     "data": {
      "text/html": [
       "<div>\n",
       "<style>\n",
       "    .dataframe thead tr:only-child th {\n",
       "        text-align: right;\n",
       "    }\n",
       "\n",
       "    .dataframe thead th {\n",
       "        text-align: left;\n",
       "    }\n",
       "\n",
       "    .dataframe tbody tr th {\n",
       "        vertical-align: top;\n",
       "    }\n",
       "</style>\n",
       "<table border=\"1\" class=\"dataframe\">\n",
       "  <thead>\n",
       "    <tr style=\"text-align: right;\">\n",
       "      <th></th>\n",
       "      <th>CustomerID</th>\n",
       "      <th>Title</th>\n",
       "      <th>FirstName</th>\n",
       "      <th>MiddleName</th>\n",
       "      <th>LastName</th>\n",
       "      <th>Suffix</th>\n",
       "      <th>AddressLine1</th>\n",
       "      <th>AddressLine2</th>\n",
       "      <th>City</th>\n",
       "      <th>StateProvinceName</th>\n",
       "      <th>...</th>\n",
       "      <th>BirthDate</th>\n",
       "      <th>Education</th>\n",
       "      <th>Occupation</th>\n",
       "      <th>Gender</th>\n",
       "      <th>MaritalStatus</th>\n",
       "      <th>HomeOwnerFlag</th>\n",
       "      <th>NumberCarsOwned</th>\n",
       "      <th>NumberChildrenAtHome</th>\n",
       "      <th>TotalChildren</th>\n",
       "      <th>YearlyIncome</th>\n",
       "    </tr>\n",
       "  </thead>\n",
       "  <tbody>\n",
       "    <tr>\n",
       "      <th>0</th>\n",
       "      <td>11000</td>\n",
       "      <td>NaN</td>\n",
       "      <td>Jon</td>\n",
       "      <td>V</td>\n",
       "      <td>Yang</td>\n",
       "      <td>NaN</td>\n",
       "      <td>3761 N. 14th St</td>\n",
       "      <td>NaN</td>\n",
       "      <td>Rockhampton</td>\n",
       "      <td>Queensland</td>\n",
       "      <td>...</td>\n",
       "      <td>1966-04-08</td>\n",
       "      <td>Bachelors</td>\n",
       "      <td>Professional</td>\n",
       "      <td>M</td>\n",
       "      <td>M</td>\n",
       "      <td>1</td>\n",
       "      <td>0</td>\n",
       "      <td>0</td>\n",
       "      <td>2</td>\n",
       "      <td>137947</td>\n",
       "    </tr>\n",
       "    <tr>\n",
       "      <th>1</th>\n",
       "      <td>11001</td>\n",
       "      <td>NaN</td>\n",
       "      <td>Eugene</td>\n",
       "      <td>L</td>\n",
       "      <td>Huang</td>\n",
       "      <td>NaN</td>\n",
       "      <td>2243 W St.</td>\n",
       "      <td>NaN</td>\n",
       "      <td>Seaford</td>\n",
       "      <td>Victoria</td>\n",
       "      <td>...</td>\n",
       "      <td>1965-05-14</td>\n",
       "      <td>Bachelors</td>\n",
       "      <td>Professional</td>\n",
       "      <td>M</td>\n",
       "      <td>S</td>\n",
       "      <td>0</td>\n",
       "      <td>1</td>\n",
       "      <td>3</td>\n",
       "      <td>3</td>\n",
       "      <td>101141</td>\n",
       "    </tr>\n",
       "    <tr>\n",
       "      <th>2</th>\n",
       "      <td>11002</td>\n",
       "      <td>NaN</td>\n",
       "      <td>Ruben</td>\n",
       "      <td>NaN</td>\n",
       "      <td>Torres</td>\n",
       "      <td>NaN</td>\n",
       "      <td>5844 Linden Land</td>\n",
       "      <td>NaN</td>\n",
       "      <td>Hobart</td>\n",
       "      <td>Tasmania</td>\n",
       "      <td>...</td>\n",
       "      <td>1965-08-12</td>\n",
       "      <td>Bachelors</td>\n",
       "      <td>Professional</td>\n",
       "      <td>M</td>\n",
       "      <td>M</td>\n",
       "      <td>1</td>\n",
       "      <td>1</td>\n",
       "      <td>3</td>\n",
       "      <td>3</td>\n",
       "      <td>91945</td>\n",
       "    </tr>\n",
       "    <tr>\n",
       "      <th>3</th>\n",
       "      <td>11003</td>\n",
       "      <td>NaN</td>\n",
       "      <td>Christy</td>\n",
       "      <td>NaN</td>\n",
       "      <td>Zhu</td>\n",
       "      <td>NaN</td>\n",
       "      <td>1825 Village Pl.</td>\n",
       "      <td>NaN</td>\n",
       "      <td>North Ryde</td>\n",
       "      <td>New South Wales</td>\n",
       "      <td>...</td>\n",
       "      <td>1968-02-15</td>\n",
       "      <td>Bachelors</td>\n",
       "      <td>Professional</td>\n",
       "      <td>F</td>\n",
       "      <td>S</td>\n",
       "      <td>0</td>\n",
       "      <td>1</td>\n",
       "      <td>0</td>\n",
       "      <td>0</td>\n",
       "      <td>86688</td>\n",
       "    </tr>\n",
       "    <tr>\n",
       "      <th>4</th>\n",
       "      <td>11004</td>\n",
       "      <td>NaN</td>\n",
       "      <td>Elizabeth</td>\n",
       "      <td>NaN</td>\n",
       "      <td>Johnson</td>\n",
       "      <td>NaN</td>\n",
       "      <td>7553 Harness Circle</td>\n",
       "      <td>NaN</td>\n",
       "      <td>Wollongong</td>\n",
       "      <td>New South Wales</td>\n",
       "      <td>...</td>\n",
       "      <td>1968-08-08</td>\n",
       "      <td>Bachelors</td>\n",
       "      <td>Professional</td>\n",
       "      <td>F</td>\n",
       "      <td>S</td>\n",
       "      <td>1</td>\n",
       "      <td>4</td>\n",
       "      <td>5</td>\n",
       "      <td>5</td>\n",
       "      <td>92771</td>\n",
       "    </tr>\n",
       "  </tbody>\n",
       "</table>\n",
       "<p>5 rows × 23 columns</p>\n",
       "</div>"
      ],
      "text/plain": [
       "   CustomerID Title  FirstName MiddleName LastName Suffix  \\\n",
       "0       11000   NaN        Jon          V     Yang    NaN   \n",
       "1       11001   NaN     Eugene          L    Huang    NaN   \n",
       "2       11002   NaN      Ruben        NaN   Torres    NaN   \n",
       "3       11003   NaN    Christy        NaN      Zhu    NaN   \n",
       "4       11004   NaN  Elizabeth        NaN  Johnson    NaN   \n",
       "\n",
       "          AddressLine1 AddressLine2         City StateProvinceName  \\\n",
       "0      3761 N. 14th St          NaN  Rockhampton        Queensland   \n",
       "1           2243 W St.          NaN      Seaford          Victoria   \n",
       "2     5844 Linden Land          NaN       Hobart          Tasmania   \n",
       "3     1825 Village Pl.          NaN   North Ryde   New South Wales   \n",
       "4  7553 Harness Circle          NaN   Wollongong   New South Wales   \n",
       "\n",
       "       ...        BirthDate   Education    Occupation Gender MaritalStatus  \\\n",
       "0      ...       1966-04-08  Bachelors   Professional      M             M   \n",
       "1      ...       1965-05-14  Bachelors   Professional      M             S   \n",
       "2      ...       1965-08-12  Bachelors   Professional      M             M   \n",
       "3      ...       1968-02-15  Bachelors   Professional      F             S   \n",
       "4      ...       1968-08-08  Bachelors   Professional      F             S   \n",
       "\n",
       "  HomeOwnerFlag NumberCarsOwned NumberChildrenAtHome  TotalChildren  \\\n",
       "0             1               0                    0              2   \n",
       "1             0               1                    3              3   \n",
       "2             1               1                    3              3   \n",
       "3             0               1                    0              0   \n",
       "4             1               4                    5              5   \n",
       "\n",
       "   YearlyIncome  \n",
       "0        137947  \n",
       "1        101141  \n",
       "2         91945  \n",
       "3         86688  \n",
       "4         92771  \n",
       "\n",
       "[5 rows x 23 columns]"
      ]
     },
     "execution_count": 5,
     "metadata": {},
     "output_type": "execute_result"
    }
   ],
   "source": [
    "AdvWorksCusts.head()"
   ]
  },
  {
   "cell_type": "code",
   "execution_count": 6,
   "metadata": {},
   "outputs": [
    {
     "data": {
      "text/html": [
       "<div>\n",
       "<style>\n",
       "    .dataframe thead tr:only-child th {\n",
       "        text-align: right;\n",
       "    }\n",
       "\n",
       "    .dataframe thead th {\n",
       "        text-align: left;\n",
       "    }\n",
       "\n",
       "    .dataframe tbody tr th {\n",
       "        vertical-align: top;\n",
       "    }\n",
       "</style>\n",
       "<table border=\"1\" class=\"dataframe\">\n",
       "  <thead>\n",
       "    <tr style=\"text-align: right;\">\n",
       "      <th></th>\n",
       "      <th>CustomerID</th>\n",
       "      <th>Title</th>\n",
       "      <th>FirstName</th>\n",
       "      <th>MiddleName</th>\n",
       "      <th>LastName</th>\n",
       "      <th>Suffix</th>\n",
       "      <th>AddressLine1</th>\n",
       "      <th>AddressLine2</th>\n",
       "      <th>City</th>\n",
       "      <th>StateProvinceName</th>\n",
       "      <th>...</th>\n",
       "      <th>BirthDate</th>\n",
       "      <th>Education</th>\n",
       "      <th>Occupation</th>\n",
       "      <th>Gender</th>\n",
       "      <th>MaritalStatus</th>\n",
       "      <th>HomeOwnerFlag</th>\n",
       "      <th>NumberCarsOwned</th>\n",
       "      <th>NumberChildrenAtHome</th>\n",
       "      <th>TotalChildren</th>\n",
       "      <th>YearlyIncome</th>\n",
       "    </tr>\n",
       "  </thead>\n",
       "  <tbody>\n",
       "    <tr>\n",
       "      <th>0</th>\n",
       "      <td>18988</td>\n",
       "      <td>NaN</td>\n",
       "      <td>Courtney</td>\n",
       "      <td>A</td>\n",
       "      <td>Baker</td>\n",
       "      <td>NaN</td>\n",
       "      <td>8727 Buena Vista Ave.</td>\n",
       "      <td>NaN</td>\n",
       "      <td>Fremont</td>\n",
       "      <td>California</td>\n",
       "      <td>...</td>\n",
       "      <td>1/5/1945</td>\n",
       "      <td>Bachelors</td>\n",
       "      <td>Management</td>\n",
       "      <td>F</td>\n",
       "      <td>S</td>\n",
       "      <td>0</td>\n",
       "      <td>2</td>\n",
       "      <td>0</td>\n",
       "      <td>5</td>\n",
       "      <td>86931</td>\n",
       "    </tr>\n",
       "    <tr>\n",
       "      <th>1</th>\n",
       "      <td>29135</td>\n",
       "      <td>NaN</td>\n",
       "      <td>Adam</td>\n",
       "      <td>C</td>\n",
       "      <td>Allen</td>\n",
       "      <td>NaN</td>\n",
       "      <td>3491 Cook Street</td>\n",
       "      <td>NaN</td>\n",
       "      <td>Haney</td>\n",
       "      <td>British Columbia</td>\n",
       "      <td>...</td>\n",
       "      <td>10/4/1964</td>\n",
       "      <td>Bachelors</td>\n",
       "      <td>Skilled Manual</td>\n",
       "      <td>M</td>\n",
       "      <td>M</td>\n",
       "      <td>1</td>\n",
       "      <td>2</td>\n",
       "      <td>2</td>\n",
       "      <td>4</td>\n",
       "      <td>100125</td>\n",
       "    </tr>\n",
       "    <tr>\n",
       "      <th>2</th>\n",
       "      <td>12156</td>\n",
       "      <td>NaN</td>\n",
       "      <td>Bonnie</td>\n",
       "      <td>NaN</td>\n",
       "      <td>Raji</td>\n",
       "      <td>NaN</td>\n",
       "      <td>359 Pleasant Hill Rd</td>\n",
       "      <td>NaN</td>\n",
       "      <td>Burbank</td>\n",
       "      <td>California</td>\n",
       "      <td>...</td>\n",
       "      <td>1/12/1934</td>\n",
       "      <td>Graduate Degree</td>\n",
       "      <td>Management</td>\n",
       "      <td>F</td>\n",
       "      <td>M</td>\n",
       "      <td>1</td>\n",
       "      <td>2</td>\n",
       "      <td>0</td>\n",
       "      <td>4</td>\n",
       "      <td>103985</td>\n",
       "    </tr>\n",
       "    <tr>\n",
       "      <th>3</th>\n",
       "      <td>13749</td>\n",
       "      <td>NaN</td>\n",
       "      <td>Julio</td>\n",
       "      <td>C</td>\n",
       "      <td>Alonso</td>\n",
       "      <td>NaN</td>\n",
       "      <td>8945 Euclid Ave.</td>\n",
       "      <td>NaN</td>\n",
       "      <td>Burlingame</td>\n",
       "      <td>California</td>\n",
       "      <td>...</td>\n",
       "      <td>9/22/1958</td>\n",
       "      <td>Graduate Degree</td>\n",
       "      <td>Skilled Manual</td>\n",
       "      <td>M</td>\n",
       "      <td>M</td>\n",
       "      <td>1</td>\n",
       "      <td>0</td>\n",
       "      <td>0</td>\n",
       "      <td>4</td>\n",
       "      <td>127161</td>\n",
       "    </tr>\n",
       "    <tr>\n",
       "      <th>4</th>\n",
       "      <td>27780</td>\n",
       "      <td>NaN</td>\n",
       "      <td>Christy</td>\n",
       "      <td>A</td>\n",
       "      <td>Andersen</td>\n",
       "      <td>NaN</td>\n",
       "      <td>42, boulevard Tremblay</td>\n",
       "      <td>NaN</td>\n",
       "      <td>Dunkerque</td>\n",
       "      <td>Nord</td>\n",
       "      <td>...</td>\n",
       "      <td>3/19/1965</td>\n",
       "      <td>High School</td>\n",
       "      <td>Manual</td>\n",
       "      <td>F</td>\n",
       "      <td>M</td>\n",
       "      <td>1</td>\n",
       "      <td>1</td>\n",
       "      <td>2</td>\n",
       "      <td>2</td>\n",
       "      <td>21876</td>\n",
       "    </tr>\n",
       "  </tbody>\n",
       "</table>\n",
       "<p>5 rows × 23 columns</p>\n",
       "</div>"
      ],
      "text/plain": [
       "   CustomerID Title FirstName MiddleName  LastName Suffix  \\\n",
       "0       18988   NaN  Courtney          A     Baker    NaN   \n",
       "1       29135   NaN      Adam          C     Allen    NaN   \n",
       "2       12156   NaN    Bonnie        NaN      Raji    NaN   \n",
       "3       13749   NaN     Julio          C    Alonso    NaN   \n",
       "4       27780   NaN   Christy          A  Andersen    NaN   \n",
       "\n",
       "             AddressLine1 AddressLine2        City StateProvinceName  \\\n",
       "0   8727 Buena Vista Ave.          NaN     Fremont        California   \n",
       "1        3491 Cook Street          NaN       Haney  British Columbia   \n",
       "2    359 Pleasant Hill Rd          NaN     Burbank        California   \n",
       "3        8945 Euclid Ave.          NaN  Burlingame        California   \n",
       "4  42, boulevard Tremblay          NaN   Dunkerque              Nord   \n",
       "\n",
       "       ...       BirthDate        Education      Occupation Gender  \\\n",
       "0      ...        1/5/1945       Bachelors       Management      F   \n",
       "1      ...       10/4/1964       Bachelors   Skilled Manual      M   \n",
       "2      ...       1/12/1934  Graduate Degree      Management      F   \n",
       "3      ...       9/22/1958  Graduate Degree  Skilled Manual      M   \n",
       "4      ...       3/19/1965      High School          Manual      F   \n",
       "\n",
       "  MaritalStatus HomeOwnerFlag NumberCarsOwned NumberChildrenAtHome  \\\n",
       "0             S             0               2                    0   \n",
       "1             M             1               2                    2   \n",
       "2             M             1               2                    0   \n",
       "3             M             1               0                    0   \n",
       "4             M             1               1                    2   \n",
       "\n",
       "   TotalChildren  YearlyIncome  \n",
       "0              5         86931  \n",
       "1              4        100125  \n",
       "2              4        103985  \n",
       "3              4        127161  \n",
       "4              2         21876  \n",
       "\n",
       "[5 rows x 23 columns]"
      ]
     },
     "execution_count": 6,
     "metadata": {},
     "output_type": "execute_result"
    }
   ],
   "source": [
    "AW_Test.head()"
   ]
  },
  {
   "cell_type": "markdown",
   "metadata": {},
   "source": [
    "## look at shape of each dataset"
   ]
  },
  {
   "cell_type": "code",
   "execution_count": 7,
   "metadata": {},
   "outputs": [
    {
     "name": "stdout",
     "output_type": "stream",
     "text": [
      "(16519, 2)\n",
      "(16519, 2)\n",
      "(16519, 23)\n",
      "(500, 23)\n"
     ]
    }
   ],
   "source": [
    "print(AveMonthSpend.shape)\n",
    "print(BikeBuyer.shape)\n",
    "print(AdvWorksCusts.shape)\n",
    "print(AW_Test.shape)"
   ]
  },
  {
   "cell_type": "markdown",
   "metadata": {},
   "source": [
    "## Remove duplicate values from monthspend, bikebuyer, and AdvCusts datasets"
   ]
  },
  {
   "cell_type": "code",
   "execution_count": 8,
   "metadata": {},
   "outputs": [
    {
     "name": "stdout",
     "output_type": "stream",
     "text": [
      "(16404, 2)\n",
      "(16404, 2)\n",
      "(16404, 23)\n"
     ]
    }
   ],
   "source": [
    "AveMonthSpend = AveMonthSpend.drop_duplicates('CustomerID')\n",
    "BikeBuyer = BikeBuyer.drop_duplicates('CustomerID')\n",
    "AdvWorksCusts = AdvWorksCusts.drop_duplicates('CustomerID')\n",
    "print(AveMonthSpend.shape)\n",
    "print(BikeBuyer.shape)\n",
    "print(AdvWorksCusts.shape)"
   ]
  },
  {
   "cell_type": "markdown",
   "metadata": {},
   "source": [
    "# join datasets to make one dataset"
   ]
  },
  {
   "cell_type": "code",
   "execution_count": 9,
   "metadata": {
    "collapsed": true
   },
   "outputs": [],
   "source": [
    "AdvWorksCustomers = pd.merge(AdvWorksCusts, AveMonthSpend, how='inner')"
   ]
  },
  {
   "cell_type": "code",
   "execution_count": 10,
   "metadata": {
    "collapsed": true
   },
   "outputs": [],
   "source": [
    "AdvWorksCustomers = pd.merge(AdvWorksCustomers, BikeBuyer, how='inner')"
   ]
  },
  {
   "cell_type": "code",
   "execution_count": 11,
   "metadata": {},
   "outputs": [
    {
     "data": {
      "text/plain": [
       "(16404, 25)"
      ]
     },
     "execution_count": 11,
     "metadata": {},
     "output_type": "execute_result"
    }
   ],
   "source": [
    "AdvWorksCustomers.shape"
   ]
  },
  {
   "cell_type": "code",
   "execution_count": 12,
   "metadata": {},
   "outputs": [
    {
     "data": {
      "text/html": [
       "<div>\n",
       "<style>\n",
       "    .dataframe thead tr:only-child th {\n",
       "        text-align: right;\n",
       "    }\n",
       "\n",
       "    .dataframe thead th {\n",
       "        text-align: left;\n",
       "    }\n",
       "\n",
       "    .dataframe tbody tr th {\n",
       "        vertical-align: top;\n",
       "    }\n",
       "</style>\n",
       "<table border=\"1\" class=\"dataframe\">\n",
       "  <thead>\n",
       "    <tr style=\"text-align: right;\">\n",
       "      <th></th>\n",
       "      <th>CustomerID</th>\n",
       "      <th>Title</th>\n",
       "      <th>FirstName</th>\n",
       "      <th>MiddleName</th>\n",
       "      <th>LastName</th>\n",
       "      <th>Suffix</th>\n",
       "      <th>AddressLine1</th>\n",
       "      <th>AddressLine2</th>\n",
       "      <th>City</th>\n",
       "      <th>StateProvinceName</th>\n",
       "      <th>...</th>\n",
       "      <th>Occupation</th>\n",
       "      <th>Gender</th>\n",
       "      <th>MaritalStatus</th>\n",
       "      <th>HomeOwnerFlag</th>\n",
       "      <th>NumberCarsOwned</th>\n",
       "      <th>NumberChildrenAtHome</th>\n",
       "      <th>TotalChildren</th>\n",
       "      <th>YearlyIncome</th>\n",
       "      <th>AveMonthSpend</th>\n",
       "      <th>BikeBuyer</th>\n",
       "    </tr>\n",
       "  </thead>\n",
       "  <tbody>\n",
       "    <tr>\n",
       "      <th>0</th>\n",
       "      <td>11000</td>\n",
       "      <td>NaN</td>\n",
       "      <td>Jon</td>\n",
       "      <td>V</td>\n",
       "      <td>Yang</td>\n",
       "      <td>NaN</td>\n",
       "      <td>3761 N. 14th St</td>\n",
       "      <td>NaN</td>\n",
       "      <td>Rockhampton</td>\n",
       "      <td>Queensland</td>\n",
       "      <td>...</td>\n",
       "      <td>Professional</td>\n",
       "      <td>M</td>\n",
       "      <td>M</td>\n",
       "      <td>1</td>\n",
       "      <td>0</td>\n",
       "      <td>0</td>\n",
       "      <td>2</td>\n",
       "      <td>137947</td>\n",
       "      <td>89</td>\n",
       "      <td>0</td>\n",
       "    </tr>\n",
       "    <tr>\n",
       "      <th>1</th>\n",
       "      <td>11001</td>\n",
       "      <td>NaN</td>\n",
       "      <td>Eugene</td>\n",
       "      <td>L</td>\n",
       "      <td>Huang</td>\n",
       "      <td>NaN</td>\n",
       "      <td>2243 W St.</td>\n",
       "      <td>NaN</td>\n",
       "      <td>Seaford</td>\n",
       "      <td>Victoria</td>\n",
       "      <td>...</td>\n",
       "      <td>Professional</td>\n",
       "      <td>M</td>\n",
       "      <td>S</td>\n",
       "      <td>0</td>\n",
       "      <td>1</td>\n",
       "      <td>3</td>\n",
       "      <td>3</td>\n",
       "      <td>101141</td>\n",
       "      <td>117</td>\n",
       "      <td>1</td>\n",
       "    </tr>\n",
       "    <tr>\n",
       "      <th>2</th>\n",
       "      <td>11002</td>\n",
       "      <td>NaN</td>\n",
       "      <td>Ruben</td>\n",
       "      <td>NaN</td>\n",
       "      <td>Torres</td>\n",
       "      <td>NaN</td>\n",
       "      <td>5844 Linden Land</td>\n",
       "      <td>NaN</td>\n",
       "      <td>Hobart</td>\n",
       "      <td>Tasmania</td>\n",
       "      <td>...</td>\n",
       "      <td>Professional</td>\n",
       "      <td>M</td>\n",
       "      <td>M</td>\n",
       "      <td>1</td>\n",
       "      <td>1</td>\n",
       "      <td>3</td>\n",
       "      <td>3</td>\n",
       "      <td>91945</td>\n",
       "      <td>123</td>\n",
       "      <td>0</td>\n",
       "    </tr>\n",
       "    <tr>\n",
       "      <th>3</th>\n",
       "      <td>11003</td>\n",
       "      <td>NaN</td>\n",
       "      <td>Christy</td>\n",
       "      <td>NaN</td>\n",
       "      <td>Zhu</td>\n",
       "      <td>NaN</td>\n",
       "      <td>1825 Village Pl.</td>\n",
       "      <td>NaN</td>\n",
       "      <td>North Ryde</td>\n",
       "      <td>New South Wales</td>\n",
       "      <td>...</td>\n",
       "      <td>Professional</td>\n",
       "      <td>F</td>\n",
       "      <td>S</td>\n",
       "      <td>0</td>\n",
       "      <td>1</td>\n",
       "      <td>0</td>\n",
       "      <td>0</td>\n",
       "      <td>86688</td>\n",
       "      <td>50</td>\n",
       "      <td>0</td>\n",
       "    </tr>\n",
       "    <tr>\n",
       "      <th>4</th>\n",
       "      <td>11004</td>\n",
       "      <td>NaN</td>\n",
       "      <td>Elizabeth</td>\n",
       "      <td>NaN</td>\n",
       "      <td>Johnson</td>\n",
       "      <td>NaN</td>\n",
       "      <td>7553 Harness Circle</td>\n",
       "      <td>NaN</td>\n",
       "      <td>Wollongong</td>\n",
       "      <td>New South Wales</td>\n",
       "      <td>...</td>\n",
       "      <td>Professional</td>\n",
       "      <td>F</td>\n",
       "      <td>S</td>\n",
       "      <td>1</td>\n",
       "      <td>4</td>\n",
       "      <td>5</td>\n",
       "      <td>5</td>\n",
       "      <td>92771</td>\n",
       "      <td>95</td>\n",
       "      <td>1</td>\n",
       "    </tr>\n",
       "  </tbody>\n",
       "</table>\n",
       "<p>5 rows × 25 columns</p>\n",
       "</div>"
      ],
      "text/plain": [
       "   CustomerID Title  FirstName MiddleName LastName Suffix  \\\n",
       "0       11000   NaN        Jon          V     Yang    NaN   \n",
       "1       11001   NaN     Eugene          L    Huang    NaN   \n",
       "2       11002   NaN      Ruben        NaN   Torres    NaN   \n",
       "3       11003   NaN    Christy        NaN      Zhu    NaN   \n",
       "4       11004   NaN  Elizabeth        NaN  Johnson    NaN   \n",
       "\n",
       "          AddressLine1 AddressLine2         City StateProvinceName    ...      \\\n",
       "0      3761 N. 14th St          NaN  Rockhampton        Queensland    ...       \n",
       "1           2243 W St.          NaN      Seaford          Victoria    ...       \n",
       "2     5844 Linden Land          NaN       Hobart          Tasmania    ...       \n",
       "3     1825 Village Pl.          NaN   North Ryde   New South Wales    ...       \n",
       "4  7553 Harness Circle          NaN   Wollongong   New South Wales    ...       \n",
       "\n",
       "     Occupation Gender MaritalStatus HomeOwnerFlag NumberCarsOwned  \\\n",
       "0  Professional      M             M             1               0   \n",
       "1  Professional      M             S             0               1   \n",
       "2  Professional      M             M             1               1   \n",
       "3  Professional      F             S             0               1   \n",
       "4  Professional      F             S             1               4   \n",
       "\n",
       "  NumberChildrenAtHome TotalChildren YearlyIncome  AveMonthSpend  BikeBuyer  \n",
       "0                    0             2       137947             89          0  \n",
       "1                    3             3       101141            117          1  \n",
       "2                    3             3        91945            123          0  \n",
       "3                    0             0        86688             50          0  \n",
       "4                    5             5        92771             95          1  \n",
       "\n",
       "[5 rows x 25 columns]"
      ]
     },
     "execution_count": 12,
     "metadata": {},
     "output_type": "execute_result"
    }
   ],
   "source": [
    "AdvWorksCustomers.head()"
   ]
  },
  {
   "cell_type": "code",
   "execution_count": 13,
   "metadata": {},
   "outputs": [
    {
     "data": {
      "text/plain": [
       "CustomerID               int64\n",
       "Title                   object\n",
       "FirstName               object\n",
       "MiddleName              object\n",
       "LastName                object\n",
       "Suffix                  object\n",
       "AddressLine1            object\n",
       "AddressLine2            object\n",
       "City                    object\n",
       "StateProvinceName       object\n",
       "CountryRegionName       object\n",
       "PostalCode              object\n",
       "PhoneNumber             object\n",
       "BirthDate               object\n",
       "Education               object\n",
       "Occupation              object\n",
       "Gender                  object\n",
       "MaritalStatus           object\n",
       "HomeOwnerFlag            int64\n",
       "NumberCarsOwned          int64\n",
       "NumberChildrenAtHome     int64\n",
       "TotalChildren            int64\n",
       "YearlyIncome             int64\n",
       "AveMonthSpend            int64\n",
       "BikeBuyer                int64\n",
       "dtype: object"
      ]
     },
     "execution_count": 13,
     "metadata": {},
     "output_type": "execute_result"
    }
   ],
   "source": [
    "# Check the datatypes of the new customers table\n",
    "AdvWorksCustomers.dtypes"
   ]
  },
  {
   "cell_type": "markdown",
   "metadata": {},
   "source": [
    "### Convert Birthdate to a datetime value\n",
    "<p> We will use birthdate and the date the data was collected (Jan 1, 1998) to add add a calculated column to show a customers age"
   ]
  },
  {
   "cell_type": "code",
   "execution_count": 14,
   "metadata": {
    "collapsed": true
   },
   "outputs": [],
   "source": [
    "AdvWorksCustomers['BirthDate'] = pd.to_datetime(AdvWorksCustomers['BirthDate'])"
   ]
  },
  {
   "cell_type": "code",
   "execution_count": 15,
   "metadata": {},
   "outputs": [
    {
     "data": {
      "text/plain": [
       "CustomerID                       int64\n",
       "Title                           object\n",
       "FirstName                       object\n",
       "MiddleName                      object\n",
       "LastName                        object\n",
       "Suffix                          object\n",
       "AddressLine1                    object\n",
       "AddressLine2                    object\n",
       "City                            object\n",
       "StateProvinceName               object\n",
       "CountryRegionName               object\n",
       "PostalCode                      object\n",
       "PhoneNumber                     object\n",
       "BirthDate               datetime64[ns]\n",
       "Education                       object\n",
       "Occupation                      object\n",
       "Gender                          object\n",
       "MaritalStatus                   object\n",
       "HomeOwnerFlag                    int64\n",
       "NumberCarsOwned                  int64\n",
       "NumberChildrenAtHome             int64\n",
       "TotalChildren                    int64\n",
       "YearlyIncome                     int64\n",
       "AveMonthSpend                    int64\n",
       "BikeBuyer                        int64\n",
       "dtype: object"
      ]
     },
     "execution_count": 15,
     "metadata": {},
     "output_type": "execute_result"
    }
   ],
   "source": [
    "AdvWorksCustomers.dtypes"
   ]
  },
  {
   "cell_type": "markdown",
   "metadata": {},
   "source": [
    "### Add a column for Age"
   ]
  },
  {
   "cell_type": "code",
   "execution_count": 16,
   "metadata": {
    "collapsed": true
   },
   "outputs": [],
   "source": [
    "# customer birth year\n",
    "birthyear = AdvWorksCustomers['BirthDate'].apply(lambda x: x.year)\n",
    "# data collection year\n",
    "start = datetime.date(1998, 1, 1).year"
   ]
  },
  {
   "cell_type": "code",
   "execution_count": 17,
   "metadata": {
    "collapsed": true
   },
   "outputs": [],
   "source": [
    "# Add column for customers Age\n",
    "AdvWorksCustomers['Age'] = start - birthyear"
   ]
  },
  {
   "cell_type": "code",
   "execution_count": 18,
   "metadata": {},
   "outputs": [
    {
     "data": {
      "text/html": [
       "<div>\n",
       "<style>\n",
       "    .dataframe thead tr:only-child th {\n",
       "        text-align: right;\n",
       "    }\n",
       "\n",
       "    .dataframe thead th {\n",
       "        text-align: left;\n",
       "    }\n",
       "\n",
       "    .dataframe tbody tr th {\n",
       "        vertical-align: top;\n",
       "    }\n",
       "</style>\n",
       "<table border=\"1\" class=\"dataframe\">\n",
       "  <thead>\n",
       "    <tr style=\"text-align: right;\">\n",
       "      <th></th>\n",
       "      <th>CustomerID</th>\n",
       "      <th>Title</th>\n",
       "      <th>FirstName</th>\n",
       "      <th>MiddleName</th>\n",
       "      <th>LastName</th>\n",
       "      <th>Suffix</th>\n",
       "      <th>AddressLine1</th>\n",
       "      <th>AddressLine2</th>\n",
       "      <th>City</th>\n",
       "      <th>StateProvinceName</th>\n",
       "      <th>...</th>\n",
       "      <th>Gender</th>\n",
       "      <th>MaritalStatus</th>\n",
       "      <th>HomeOwnerFlag</th>\n",
       "      <th>NumberCarsOwned</th>\n",
       "      <th>NumberChildrenAtHome</th>\n",
       "      <th>TotalChildren</th>\n",
       "      <th>YearlyIncome</th>\n",
       "      <th>AveMonthSpend</th>\n",
       "      <th>BikeBuyer</th>\n",
       "      <th>Age</th>\n",
       "    </tr>\n",
       "  </thead>\n",
       "  <tbody>\n",
       "    <tr>\n",
       "      <th>0</th>\n",
       "      <td>11000</td>\n",
       "      <td>NaN</td>\n",
       "      <td>Jon</td>\n",
       "      <td>V</td>\n",
       "      <td>Yang</td>\n",
       "      <td>NaN</td>\n",
       "      <td>3761 N. 14th St</td>\n",
       "      <td>NaN</td>\n",
       "      <td>Rockhampton</td>\n",
       "      <td>Queensland</td>\n",
       "      <td>...</td>\n",
       "      <td>M</td>\n",
       "      <td>M</td>\n",
       "      <td>1</td>\n",
       "      <td>0</td>\n",
       "      <td>0</td>\n",
       "      <td>2</td>\n",
       "      <td>137947</td>\n",
       "      <td>89</td>\n",
       "      <td>0</td>\n",
       "      <td>32</td>\n",
       "    </tr>\n",
       "    <tr>\n",
       "      <th>1</th>\n",
       "      <td>11001</td>\n",
       "      <td>NaN</td>\n",
       "      <td>Eugene</td>\n",
       "      <td>L</td>\n",
       "      <td>Huang</td>\n",
       "      <td>NaN</td>\n",
       "      <td>2243 W St.</td>\n",
       "      <td>NaN</td>\n",
       "      <td>Seaford</td>\n",
       "      <td>Victoria</td>\n",
       "      <td>...</td>\n",
       "      <td>M</td>\n",
       "      <td>S</td>\n",
       "      <td>0</td>\n",
       "      <td>1</td>\n",
       "      <td>3</td>\n",
       "      <td>3</td>\n",
       "      <td>101141</td>\n",
       "      <td>117</td>\n",
       "      <td>1</td>\n",
       "      <td>33</td>\n",
       "    </tr>\n",
       "    <tr>\n",
       "      <th>2</th>\n",
       "      <td>11002</td>\n",
       "      <td>NaN</td>\n",
       "      <td>Ruben</td>\n",
       "      <td>NaN</td>\n",
       "      <td>Torres</td>\n",
       "      <td>NaN</td>\n",
       "      <td>5844 Linden Land</td>\n",
       "      <td>NaN</td>\n",
       "      <td>Hobart</td>\n",
       "      <td>Tasmania</td>\n",
       "      <td>...</td>\n",
       "      <td>M</td>\n",
       "      <td>M</td>\n",
       "      <td>1</td>\n",
       "      <td>1</td>\n",
       "      <td>3</td>\n",
       "      <td>3</td>\n",
       "      <td>91945</td>\n",
       "      <td>123</td>\n",
       "      <td>0</td>\n",
       "      <td>33</td>\n",
       "    </tr>\n",
       "    <tr>\n",
       "      <th>3</th>\n",
       "      <td>11003</td>\n",
       "      <td>NaN</td>\n",
       "      <td>Christy</td>\n",
       "      <td>NaN</td>\n",
       "      <td>Zhu</td>\n",
       "      <td>NaN</td>\n",
       "      <td>1825 Village Pl.</td>\n",
       "      <td>NaN</td>\n",
       "      <td>North Ryde</td>\n",
       "      <td>New South Wales</td>\n",
       "      <td>...</td>\n",
       "      <td>F</td>\n",
       "      <td>S</td>\n",
       "      <td>0</td>\n",
       "      <td>1</td>\n",
       "      <td>0</td>\n",
       "      <td>0</td>\n",
       "      <td>86688</td>\n",
       "      <td>50</td>\n",
       "      <td>0</td>\n",
       "      <td>30</td>\n",
       "    </tr>\n",
       "    <tr>\n",
       "      <th>4</th>\n",
       "      <td>11004</td>\n",
       "      <td>NaN</td>\n",
       "      <td>Elizabeth</td>\n",
       "      <td>NaN</td>\n",
       "      <td>Johnson</td>\n",
       "      <td>NaN</td>\n",
       "      <td>7553 Harness Circle</td>\n",
       "      <td>NaN</td>\n",
       "      <td>Wollongong</td>\n",
       "      <td>New South Wales</td>\n",
       "      <td>...</td>\n",
       "      <td>F</td>\n",
       "      <td>S</td>\n",
       "      <td>1</td>\n",
       "      <td>4</td>\n",
       "      <td>5</td>\n",
       "      <td>5</td>\n",
       "      <td>92771</td>\n",
       "      <td>95</td>\n",
       "      <td>1</td>\n",
       "      <td>30</td>\n",
       "    </tr>\n",
       "  </tbody>\n",
       "</table>\n",
       "<p>5 rows × 26 columns</p>\n",
       "</div>"
      ],
      "text/plain": [
       "   CustomerID Title  FirstName MiddleName LastName Suffix  \\\n",
       "0       11000   NaN        Jon          V     Yang    NaN   \n",
       "1       11001   NaN     Eugene          L    Huang    NaN   \n",
       "2       11002   NaN      Ruben        NaN   Torres    NaN   \n",
       "3       11003   NaN    Christy        NaN      Zhu    NaN   \n",
       "4       11004   NaN  Elizabeth        NaN  Johnson    NaN   \n",
       "\n",
       "          AddressLine1 AddressLine2         City StateProvinceName ...   \\\n",
       "0      3761 N. 14th St          NaN  Rockhampton        Queensland ...    \n",
       "1           2243 W St.          NaN      Seaford          Victoria ...    \n",
       "2     5844 Linden Land          NaN       Hobart          Tasmania ...    \n",
       "3     1825 Village Pl.          NaN   North Ryde   New South Wales ...    \n",
       "4  7553 Harness Circle          NaN   Wollongong   New South Wales ...    \n",
       "\n",
       "  Gender MaritalStatus HomeOwnerFlag NumberCarsOwned NumberChildrenAtHome  \\\n",
       "0      M             M             1               0                    0   \n",
       "1      M             S             0               1                    3   \n",
       "2      M             M             1               1                    3   \n",
       "3      F             S             0               1                    0   \n",
       "4      F             S             1               4                    5   \n",
       "\n",
       "  TotalChildren YearlyIncome AveMonthSpend  BikeBuyer  Age  \n",
       "0             2       137947            89          0   32  \n",
       "1             3       101141           117          1   33  \n",
       "2             3        91945           123          0   33  \n",
       "3             0        86688            50          0   30  \n",
       "4             5        92771            95          1   30  \n",
       "\n",
       "[5 rows x 26 columns]"
      ]
     },
     "execution_count": 18,
     "metadata": {},
     "output_type": "execute_result"
    }
   ],
   "source": [
    "AdvWorksCustomers.head()"
   ]
  },
  {
   "cell_type": "code",
   "execution_count": 19,
   "metadata": {
    "collapsed": true
   },
   "outputs": [],
   "source": [
    "# Binarize the MaritalStatus to 1 or 0\n",
    "AdvWorksCustomers['Married'] = (AdvWorksCustomers['MaritalStatus'] == 'M')*1"
   ]
  },
  {
   "cell_type": "code",
   "execution_count": 20,
   "metadata": {
    "collapsed": true
   },
   "outputs": [],
   "source": [
    "AdvWorksCustomersCopy = AdvWorksCustomers.copy()"
   ]
  },
  {
   "cell_type": "code",
   "execution_count": 21,
   "metadata": {},
   "outputs": [
    {
     "data": {
      "text/plain": [
       "Professional      4922\n",
       "Skilled Manual    4038\n",
       "Management        2718\n",
       "Clerical          2597\n",
       "Manual            2129\n",
       "Name: Occupation, dtype: int64"
      ]
     },
     "execution_count": 21,
     "metadata": {},
     "output_type": "execute_result"
    }
   ],
   "source": [
    "AdvWorksCustomersCopy['Occupation'].value_counts()"
   ]
  },
  {
   "cell_type": "code",
   "execution_count": 22,
   "metadata": {},
   "outputs": [
    {
     "data": {
      "text/plain": [
       "Bachelors              4758\n",
       "Partial College        4451\n",
       "High School            2944\n",
       "Graduate Degree        2851\n",
       "Partial High School    1400\n",
       "Name: Education, dtype: int64"
      ]
     },
     "execution_count": 22,
     "metadata": {},
     "output_type": "execute_result"
    }
   ],
   "source": [
    "AdvWorksCustomersCopy['Education'].value_counts()"
   ]
  },
  {
   "cell_type": "code",
   "execution_count": 23,
   "metadata": {
    "collapsed": true
   },
   "outputs": [],
   "source": [
    "# Convert categorical variable Occupation to numeric variables for regression analysis\n",
    "Career= {\"Occupation\": {\"Professional\": 1, \"Skilled Manual\": 2, \"Management\": 3, \"Clerical\": 4, \"Manual\": 5} }"
   ]
  },
  {
   "cell_type": "code",
   "execution_count": 24,
   "metadata": {
    "collapsed": true
   },
   "outputs": [],
   "source": [
    "School = {\"Education\":{\"Partial High School\": 1,\"High School\": 2, \"Partial College\": 3, \"Bachelors \": 4, \"Graduate Degree\":5}}"
   ]
  },
  {
   "cell_type": "code",
   "execution_count": 25,
   "metadata": {
    "collapsed": true
   },
   "outputs": [],
   "source": [
    "AdvWorksCustomersCopy.replace(School, inplace=True)"
   ]
  },
  {
   "cell_type": "code",
   "execution_count": 26,
   "metadata": {
    "collapsed": true
   },
   "outputs": [],
   "source": [
    "AdvWorksCustomersCopy.replace(Career, inplace=True)"
   ]
  },
  {
   "cell_type": "code",
   "execution_count": 27,
   "metadata": {},
   "outputs": [
    {
     "data": {
      "text/plain": [
       "1    4922\n",
       "2    4038\n",
       "3    2718\n",
       "4    2597\n",
       "5    2129\n",
       "Name: Occupation, dtype: int64"
      ]
     },
     "execution_count": 27,
     "metadata": {},
     "output_type": "execute_result"
    }
   ],
   "source": [
    "AdvWorksCustomersCopy['Occupation'].value_counts()"
   ]
  },
  {
   "cell_type": "code",
   "execution_count": 28,
   "metadata": {},
   "outputs": [
    {
     "data": {
      "text/plain": [
       "4    4758\n",
       "3    4451\n",
       "2    2944\n",
       "5    2851\n",
       "1    1400\n",
       "Name: Education, dtype: int64"
      ]
     },
     "execution_count": 28,
     "metadata": {},
     "output_type": "execute_result"
    }
   ],
   "source": [
    "AdvWorksCustomersCopy['Education'].value_counts()"
   ]
  },
  {
   "cell_type": "code",
   "execution_count": 29,
   "metadata": {},
   "outputs": [
    {
     "data": {
      "text/plain": [
       "CustomerID                       int64\n",
       "Title                           object\n",
       "FirstName                       object\n",
       "MiddleName                      object\n",
       "LastName                        object\n",
       "Suffix                          object\n",
       "AddressLine1                    object\n",
       "AddressLine2                    object\n",
       "City                            object\n",
       "StateProvinceName               object\n",
       "CountryRegionName               object\n",
       "PostalCode                      object\n",
       "PhoneNumber                     object\n",
       "BirthDate               datetime64[ns]\n",
       "Education                        int64\n",
       "Occupation                       int64\n",
       "Gender                          object\n",
       "MaritalStatus                   object\n",
       "HomeOwnerFlag                    int64\n",
       "NumberCarsOwned                  int64\n",
       "NumberChildrenAtHome             int64\n",
       "TotalChildren                    int64\n",
       "YearlyIncome                     int64\n",
       "AveMonthSpend                    int64\n",
       "BikeBuyer                        int64\n",
       "Age                              int64\n",
       "Married                          int64\n",
       "dtype: object"
      ]
     },
     "execution_count": 29,
     "metadata": {},
     "output_type": "execute_result"
    }
   ],
   "source": [
    "AdvWorksCustomersCopy.dtypes"
   ]
  },
  {
   "cell_type": "markdown",
   "metadata": {},
   "source": [
    "## Declare the columns to use as features"
   ]
  },
  {
   "cell_type": "code",
   "execution_count": 30,
   "metadata": {},
   "outputs": [
    {
     "data": {
      "text/plain": [
       "Index(['CustomerID', 'Title', 'FirstName', 'MiddleName', 'LastName', 'Suffix',\n",
       "       'AddressLine1', 'AddressLine2', 'City', 'StateProvinceName',\n",
       "       'CountryRegionName', 'PostalCode', 'PhoneNumber', 'BirthDate',\n",
       "       'Education', 'Occupation', 'Gender', 'MaritalStatus', 'HomeOwnerFlag',\n",
       "       'NumberCarsOwned', 'NumberChildrenAtHome', 'TotalChildren',\n",
       "       'YearlyIncome', 'AveMonthSpend', 'BikeBuyer', 'Age', 'Married'],\n",
       "      dtype='object')"
      ]
     },
     "execution_count": 30,
     "metadata": {},
     "output_type": "execute_result"
    }
   ],
   "source": [
    "AdvWorksCustomersCopy.columns"
   ]
  },
  {
   "cell_type": "code",
   "execution_count": 56,
   "metadata": {
    "collapsed": true
   },
   "outputs": [],
   "source": [
    "# remove 'Education'\n",
    "# remove 'Occupation'\n",
    "# remove 'Married'\n",
    "#'Education', 'Occupation','HomeOwnerFlag',\n",
    "#'NumberCarsOwned', 'NumberChildrenAtHome', 'TotalChildren',\n",
    "#'YearlyIncome', 'BikeBuyer', 'Age','Married'\n",
    "\n",
    "\n",
    "features = ['Education', 'Occupation','HomeOwnerFlag','NumberCarsOwned', \n",
    "            'NumberChildrenAtHome', 'TotalChildren', 'YearlyIncome', 'Age','Married']"
   ]
  },
  {
   "cell_type": "markdown",
   "metadata": {},
   "source": [
    "## Specify a prediction target"
   ]
  },
  {
   "cell_type": "code",
   "execution_count": 57,
   "metadata": {
    "collapsed": true
   },
   "outputs": [],
   "source": [
    "target = 'AveMonthSpend'"
   ]
  },
  {
   "cell_type": "markdown",
   "metadata": {},
   "source": [
    "### Extract features and target into Separate Dataframes"
   ]
  },
  {
   "cell_type": "code",
   "execution_count": 58,
   "metadata": {
    "collapsed": true
   },
   "outputs": [],
   "source": [
    "X = AdvWorksCustomersCopy[features]"
   ]
  },
  {
   "cell_type": "code",
   "execution_count": 59,
   "metadata": {
    "collapsed": true
   },
   "outputs": [],
   "source": [
    "y = AdvWorksCustomersCopy[target]"
   ]
  },
  {
   "cell_type": "code",
   "execution_count": 60,
   "metadata": {},
   "outputs": [
    {
     "data": {
      "text/plain": [
       "Education                   4\n",
       "Occupation                  1\n",
       "HomeOwnerFlag               1\n",
       "NumberCarsOwned             1\n",
       "NumberChildrenAtHome        3\n",
       "TotalChildren               3\n",
       "YearlyIncome            91945\n",
       "Age                        33\n",
       "Married                     1\n",
       "Name: 2, dtype: int64"
      ]
     },
     "execution_count": 60,
     "metadata": {},
     "output_type": "execute_result"
    }
   ],
   "source": [
    "# look at a typical row from features\n",
    "X.iloc[2]"
   ]
  },
  {
   "cell_type": "markdown",
   "metadata": {},
   "source": [
    "## Display target values"
   ]
  },
  {
   "cell_type": "code",
   "execution_count": 61,
   "metadata": {},
   "outputs": [
    {
     "data": {
      "text/plain": [
       "0     89\n",
       "1    117\n",
       "2    123\n",
       "3     50\n",
       "4     95\n",
       "Name: AveMonthSpend, dtype: int64"
      ]
     },
     "execution_count": 61,
     "metadata": {},
     "output_type": "execute_result"
    }
   ],
   "source": [
    "y.head()"
   ]
  },
  {
   "cell_type": "markdown",
   "metadata": {},
   "source": [
    "## Split the data into train test split"
   ]
  },
  {
   "cell_type": "code",
   "execution_count": 62,
   "metadata": {
    "collapsed": true
   },
   "outputs": [],
   "source": [
    "X_train, X_test, y_train, y_test = train_test_split(X, y, test_size=.33, random_state=324)"
   ]
  },
  {
   "cell_type": "code",
   "execution_count": 63,
   "metadata": {},
   "outputs": [
    {
     "data": {
      "text/plain": [
       "LinearRegression(copy_X=True, fit_intercept=True, n_jobs=1, normalize=False)"
      ]
     },
     "execution_count": 63,
     "metadata": {},
     "output_type": "execute_result"
    }
   ],
   "source": [
    "lRegressor = LinearRegression()\n",
    "lRegressor.fit(X_train, y_train)"
   ]
  },
  {
   "cell_type": "markdown",
   "metadata": {},
   "source": [
    "## Perform prediction using linear regression model"
   ]
  },
  {
   "cell_type": "code",
   "execution_count": 64,
   "metadata": {},
   "outputs": [
    {
     "data": {
      "text/plain": [
       "array([ 69.44106318,  46.82876631,  59.75842246, ...,  80.32463593,\n",
       "        62.62797298,  82.54807247])"
      ]
     },
     "execution_count": 64,
     "metadata": {},
     "output_type": "execute_result"
    }
   ],
   "source": [
    "y_prediction = lRegressor.predict(X_test)\n",
    "y_prediction"
   ]
  },
  {
   "cell_type": "markdown",
   "metadata": {},
   "source": [
    "## what is the mean of the expected target value"
   ]
  },
  {
   "cell_type": "code",
   "execution_count": 65,
   "metadata": {},
   "outputs": [
    {
     "data": {
      "text/plain": [
       "count    5414.000000\n",
       "mean       72.429627\n",
       "std        27.149546\n",
       "min        22.000000\n",
       "25%        52.000000\n",
       "50%        68.000000\n",
       "75%        84.000000\n",
       "max       175.000000\n",
       "Name: AveMonthSpend, dtype: float64"
      ]
     },
     "execution_count": 65,
     "metadata": {},
     "output_type": "execute_result"
    }
   ],
   "source": [
    "y_test.describe()"
   ]
  },
  {
   "cell_type": "markdown",
   "metadata": {},
   "source": [
    "## Evaluate linear regression accuracy with RMSE"
   ]
  },
  {
   "cell_type": "code",
   "execution_count": 66,
   "metadata": {
    "collapsed": true
   },
   "outputs": [],
   "source": [
    "RMSE = sqrt(mean_squared_error(y_true = y_test, y_pred = y_prediction))"
   ]
  },
  {
   "cell_type": "code",
   "execution_count": 67,
   "metadata": {},
   "outputs": [
    {
     "name": "stdout",
     "output_type": "stream",
     "text": [
      "14.944430017020515\n"
     ]
    }
   ],
   "source": [
    "print(RMSE)"
   ]
  },
  {
   "cell_type": "markdown",
   "metadata": {},
   "source": [
    "## Try the Decision Tree Regressor"
   ]
  },
  {
   "cell_type": "code",
   "execution_count": 68,
   "metadata": {},
   "outputs": [
    {
     "data": {
      "text/plain": [
       "DecisionTreeRegressor(criterion='mse', max_depth=10, max_features=None,\n",
       "           max_leaf_nodes=None, min_impurity_decrease=0.0,\n",
       "           min_impurity_split=None, min_samples_leaf=1,\n",
       "           min_samples_split=2, min_weight_fraction_leaf=0.0,\n",
       "           presort=False, random_state=None, splitter='best')"
      ]
     },
     "execution_count": 68,
     "metadata": {},
     "output_type": "execute_result"
    }
   ],
   "source": [
    "DTRegressor = DecisionTreeRegressor(max_depth=10)\n",
    "DTRegressor.fit(X_train, y_train)"
   ]
  },
  {
   "cell_type": "markdown",
   "metadata": {},
   "source": [
    "## perform prediction using Decision Tree Regressor"
   ]
  },
  {
   "cell_type": "code",
   "execution_count": 69,
   "metadata": {},
   "outputs": [
    {
     "data": {
      "text/plain": [
       "array([ 58.4057971 ,  49.43594646,  53.75714286, ...,  85.83950617,\n",
       "        66.95555556,  89.88235294])"
      ]
     },
     "execution_count": 69,
     "metadata": {},
     "output_type": "execute_result"
    }
   ],
   "source": [
    "y_prediction = DTRegressor.predict(X_test)\n",
    "y_prediction"
   ]
  },
  {
   "cell_type": "markdown",
   "metadata": {},
   "source": [
    "## check the mean of the expected target "
   ]
  },
  {
   "cell_type": "code",
   "execution_count": 70,
   "metadata": {},
   "outputs": [
    {
     "data": {
      "text/plain": [
       "count    5414.000000\n",
       "mean       72.429627\n",
       "std        27.149546\n",
       "min        22.000000\n",
       "25%        52.000000\n",
       "50%        68.000000\n",
       "75%        84.000000\n",
       "max       175.000000\n",
       "Name: AveMonthSpend, dtype: float64"
      ]
     },
     "execution_count": 70,
     "metadata": {},
     "output_type": "execute_result"
    }
   ],
   "source": [
    "y_test.describe()"
   ]
  },
  {
   "cell_type": "markdown",
   "metadata": {},
   "source": [
    "## Evaluate Decision Tree Regressor accuracy using RMSE"
   ]
  },
  {
   "cell_type": "code",
   "execution_count": 71,
   "metadata": {
    "collapsed": true
   },
   "outputs": [],
   "source": [
    "RMSE = sqrt(mean_squared_error(y_true = y_test, y_pred = y_prediction))"
   ]
  },
  {
   "cell_type": "code",
   "execution_count": 72,
   "metadata": {},
   "outputs": [
    {
     "name": "stdout",
     "output_type": "stream",
     "text": [
      "13.478981624633905\n"
     ]
    }
   ],
   "source": [
    "print(RMSE)"
   ]
  },
  {
   "cell_type": "code",
   "execution_count": 73,
   "metadata": {},
   "outputs": [
    {
     "data": {
      "text/plain": [
       "array([ 58.4057971 ,  49.43594646,  53.75714286, ...,  85.83950617,\n",
       "        66.95555556,  89.88235294])"
      ]
     },
     "execution_count": 73,
     "metadata": {},
     "output_type": "execute_result"
    }
   ],
   "source": [
    "y_prediction"
   ]
  },
  {
   "cell_type": "code",
   "execution_count": 74,
   "metadata": {},
   "outputs": [
    {
     "name": "stdout",
     "output_type": "stream",
     "text": [
      "[ 58.4057971   49.43594646  53.75714286 ...,  85.83950617  66.95555556\n",
      "  89.88235294]\n"
     ]
    }
   ],
   "source": [
    "print(y_prediction)"
   ]
  },
  {
   "cell_type": "code",
   "execution_count": 75,
   "metadata": {},
   "outputs": [
    {
     "data": {
      "text/plain": [
       "0        58.405797\n",
       "1        49.435946\n",
       "2        53.757143\n",
       "3       125.777778\n",
       "4       143.811321\n",
       "5        45.444444\n",
       "6        55.410714\n",
       "7        90.520000\n",
       "8        58.185185\n",
       "9        49.435946\n",
       "10       57.068966\n",
       "11       63.055556\n",
       "12       49.435946\n",
       "13      104.000000\n",
       "14       54.213636\n",
       "15       74.615385\n",
       "16       74.458333\n",
       "17      127.250000\n",
       "18       81.000000\n",
       "19       60.600000\n",
       "20       67.041667\n",
       "21       56.190476\n",
       "22       95.071429\n",
       "23       89.282051\n",
       "24       55.681818\n",
       "25       77.542553\n",
       "26       52.026316\n",
       "27       47.418605\n",
       "28      100.222222\n",
       "29       57.068966\n",
       "           ...    \n",
       "5384     53.459459\n",
       "5385     52.055319\n",
       "5386     67.041667\n",
       "5387     49.081633\n",
       "5388    100.250000\n",
       "5389     82.120000\n",
       "5390     90.520000\n",
       "5391     47.555556\n",
       "5392     61.495298\n",
       "5393     71.629213\n",
       "5394     68.380952\n",
       "5395     67.041667\n",
       "5396     57.000000\n",
       "5397     60.662791\n",
       "5398     49.435946\n",
       "5399    123.500000\n",
       "5400     86.041667\n",
       "5401     53.526882\n",
       "5402     61.402299\n",
       "5403    151.000000\n",
       "5404     87.272727\n",
       "5405    127.666667\n",
       "5406     29.000000\n",
       "5407     52.026316\n",
       "5408     59.000000\n",
       "5409     48.396825\n",
       "5410    101.250000\n",
       "5411     85.839506\n",
       "5412     66.955556\n",
       "5413     89.882353\n",
       "Length: 5414, dtype: float64"
      ]
     },
     "execution_count": 75,
     "metadata": {},
     "output_type": "execute_result"
    }
   ],
   "source": [
    "pd.Series(y_prediction)"
   ]
  },
  {
   "cell_type": "code",
   "execution_count": 76,
   "metadata": {
    "collapsed": true
   },
   "outputs": [],
   "source": [
    "import seaborn as sns\n",
    "%matplotlib inline"
   ]
  },
  {
   "cell_type": "code",
   "execution_count": 77,
   "metadata": {},
   "outputs": [
    {
     "data": {
      "text/plain": [
       "<seaborn.axisgrid.PairGrid at 0x1a1a771320>"
      ]
     },
     "execution_count": 77,
     "metadata": {},
     "output_type": "execute_result"
    },
    {
     "data": {
      "image/png": "[encoded data removed]",
      "text/plain": [
       "<matplotlib.figure.Figure at 0x1a1a771e48>"
      ]
     },
     "metadata": {},
     "output_type": "display_data"
    }
   ],
   "source": [
    "# visualize the relationship between the features and the response using scatterplots\n",
    "sns.pairplot(AdvWorksCustomersCopy, x_vars=['NumberChildrenAtHome','YearlyIncome', 'Age'], y_vars='AveMonthSpend', size=7, aspect=0.7)"
   ]
  },
  {
   "cell_type": "code",
   "execution_count": 78,
   "metadata": {},
   "outputs": [
    {
     "data": {
      "text/plain": [
       "count    16404.000000\n",
       "mean        72.389905\n",
       "std         27.269568\n",
       "min         22.000000\n",
       "25%         52.000000\n",
       "50%         68.000000\n",
       "75%         84.000000\n",
       "max        176.000000\n",
       "Name: AveMonthSpend, dtype: float64"
      ]
     },
     "execution_count": 78,
     "metadata": {},
     "output_type": "execute_result"
    }
   ],
   "source": [
    "y.describe()"
   ]
  },
  {
   "cell_type": "code",
   "execution_count": 80,
   "metadata": {},
   "outputs": [
    {
     "data": {
      "text/plain": [
       "CustomerID               int64\n",
       "Title                   object\n",
       "FirstName               object\n",
       "MiddleName              object\n",
       "LastName                object\n",
       "Suffix                  object\n",
       "AddressLine1            object\n",
       "AddressLine2            object\n",
       "City                    object\n",
       "StateProvinceName       object\n",
       "CountryRegionName       object\n",
       "PostalCode              object\n",
       "PhoneNumber             object\n",
       "BirthDate               object\n",
       "Education               object\n",
       "Occupation              object\n",
       "Gender                  object\n",
       "MaritalStatus           object\n",
       "HomeOwnerFlag            int64\n",
       "NumberCarsOwned          int64\n",
       "NumberChildrenAtHome     int64\n",
       "TotalChildren            int64\n",
       "YearlyIncome             int64\n",
       "dtype: object"
      ]
     },
     "execution_count": 80,
     "metadata": {},
     "output_type": "execute_result"
    }
   ],
   "source": [
    "# Loaded test sample data in and prepare features like before\n",
    "AW_Test.dtypes"
   ]
  },
  {
   "cell_type": "code",
   "execution_count": 81,
   "metadata": {
    "collapsed": true
   },
   "outputs": [],
   "source": [
    "# calculate an Age for the customer\n",
    "AW_Test['BirthDate'] = pd.to_datetime(AW_Test['BirthDate'])"
   ]
  },
  {
   "cell_type": "code",
   "execution_count": 83,
   "metadata": {
    "collapsed": true
   },
   "outputs": [],
   "source": [
    "# customer birth year\n",
    "birthyear = AW_Test['BirthDate'].apply(lambda x: x.year)\n",
    "# data collection year\n",
    "start = datetime.date(1998, 1, 1).year\n",
    "\n",
    "# Add column for customers Age\n",
    "AW_Test['Age'] = start - birthyear"
   ]
  },
  {
   "cell_type": "code",
   "execution_count": 84,
   "metadata": {},
   "outputs": [
    {
     "data": {
      "text/html": [
       "<div>\n",
       "<style>\n",
       "    .dataframe thead tr:only-child th {\n",
       "        text-align: right;\n",
       "    }\n",
       "\n",
       "    .dataframe thead th {\n",
       "        text-align: left;\n",
       "    }\n",
       "\n",
       "    .dataframe tbody tr th {\n",
       "        vertical-align: top;\n",
       "    }\n",
       "</style>\n",
       "<table border=\"1\" class=\"dataframe\">\n",
       "  <thead>\n",
       "    <tr style=\"text-align: right;\">\n",
       "      <th></th>\n",
       "      <th>CustomerID</th>\n",
       "      <th>Title</th>\n",
       "      <th>FirstName</th>\n",
       "      <th>MiddleName</th>\n",
       "      <th>LastName</th>\n",
       "      <th>Suffix</th>\n",
       "      <th>AddressLine1</th>\n",
       "      <th>AddressLine2</th>\n",
       "      <th>City</th>\n",
       "      <th>StateProvinceName</th>\n",
       "      <th>...</th>\n",
       "      <th>Education</th>\n",
       "      <th>Occupation</th>\n",
       "      <th>Gender</th>\n",
       "      <th>MaritalStatus</th>\n",
       "      <th>HomeOwnerFlag</th>\n",
       "      <th>NumberCarsOwned</th>\n",
       "      <th>NumberChildrenAtHome</th>\n",
       "      <th>TotalChildren</th>\n",
       "      <th>YearlyIncome</th>\n",
       "      <th>Age</th>\n",
       "    </tr>\n",
       "  </thead>\n",
       "  <tbody>\n",
       "    <tr>\n",
       "      <th>0</th>\n",
       "      <td>18988</td>\n",
       "      <td>NaN</td>\n",
       "      <td>Courtney</td>\n",
       "      <td>A</td>\n",
       "      <td>Baker</td>\n",
       "      <td>NaN</td>\n",
       "      <td>8727 Buena Vista Ave.</td>\n",
       "      <td>NaN</td>\n",
       "      <td>Fremont</td>\n",
       "      <td>California</td>\n",
       "      <td>...</td>\n",
       "      <td>Bachelors</td>\n",
       "      <td>Management</td>\n",
       "      <td>F</td>\n",
       "      <td>S</td>\n",
       "      <td>0</td>\n",
       "      <td>2</td>\n",
       "      <td>0</td>\n",
       "      <td>5</td>\n",
       "      <td>86931</td>\n",
       "      <td>53</td>\n",
       "    </tr>\n",
       "    <tr>\n",
       "      <th>1</th>\n",
       "      <td>29135</td>\n",
       "      <td>NaN</td>\n",
       "      <td>Adam</td>\n",
       "      <td>C</td>\n",
       "      <td>Allen</td>\n",
       "      <td>NaN</td>\n",
       "      <td>3491 Cook Street</td>\n",
       "      <td>NaN</td>\n",
       "      <td>Haney</td>\n",
       "      <td>British Columbia</td>\n",
       "      <td>...</td>\n",
       "      <td>Bachelors</td>\n",
       "      <td>Skilled Manual</td>\n",
       "      <td>M</td>\n",
       "      <td>M</td>\n",
       "      <td>1</td>\n",
       "      <td>2</td>\n",
       "      <td>2</td>\n",
       "      <td>4</td>\n",
       "      <td>100125</td>\n",
       "      <td>34</td>\n",
       "    </tr>\n",
       "    <tr>\n",
       "      <th>2</th>\n",
       "      <td>12156</td>\n",
       "      <td>NaN</td>\n",
       "      <td>Bonnie</td>\n",
       "      <td>NaN</td>\n",
       "      <td>Raji</td>\n",
       "      <td>NaN</td>\n",
       "      <td>359 Pleasant Hill Rd</td>\n",
       "      <td>NaN</td>\n",
       "      <td>Burbank</td>\n",
       "      <td>California</td>\n",
       "      <td>...</td>\n",
       "      <td>Graduate Degree</td>\n",
       "      <td>Management</td>\n",
       "      <td>F</td>\n",
       "      <td>M</td>\n",
       "      <td>1</td>\n",
       "      <td>2</td>\n",
       "      <td>0</td>\n",
       "      <td>4</td>\n",
       "      <td>103985</td>\n",
       "      <td>64</td>\n",
       "    </tr>\n",
       "    <tr>\n",
       "      <th>3</th>\n",
       "      <td>13749</td>\n",
       "      <td>NaN</td>\n",
       "      <td>Julio</td>\n",
       "      <td>C</td>\n",
       "      <td>Alonso</td>\n",
       "      <td>NaN</td>\n",
       "      <td>8945 Euclid Ave.</td>\n",
       "      <td>NaN</td>\n",
       "      <td>Burlingame</td>\n",
       "      <td>California</td>\n",
       "      <td>...</td>\n",
       "      <td>Graduate Degree</td>\n",
       "      <td>Skilled Manual</td>\n",
       "      <td>M</td>\n",
       "      <td>M</td>\n",
       "      <td>1</td>\n",
       "      <td>0</td>\n",
       "      <td>0</td>\n",
       "      <td>4</td>\n",
       "      <td>127161</td>\n",
       "      <td>40</td>\n",
       "    </tr>\n",
       "    <tr>\n",
       "      <th>4</th>\n",
       "      <td>27780</td>\n",
       "      <td>NaN</td>\n",
       "      <td>Christy</td>\n",
       "      <td>A</td>\n",
       "      <td>Andersen</td>\n",
       "      <td>NaN</td>\n",
       "      <td>42, boulevard Tremblay</td>\n",
       "      <td>NaN</td>\n",
       "      <td>Dunkerque</td>\n",
       "      <td>Nord</td>\n",
       "      <td>...</td>\n",
       "      <td>High School</td>\n",
       "      <td>Manual</td>\n",
       "      <td>F</td>\n",
       "      <td>M</td>\n",
       "      <td>1</td>\n",
       "      <td>1</td>\n",
       "      <td>2</td>\n",
       "      <td>2</td>\n",
       "      <td>21876</td>\n",
       "      <td>33</td>\n",
       "    </tr>\n",
       "  </tbody>\n",
       "</table>\n",
       "<p>5 rows × 24 columns</p>\n",
       "</div>"
      ],
      "text/plain": [
       "   CustomerID Title FirstName MiddleName  LastName Suffix  \\\n",
       "0       18988   NaN  Courtney          A     Baker    NaN   \n",
       "1       29135   NaN      Adam          C     Allen    NaN   \n",
       "2       12156   NaN    Bonnie        NaN      Raji    NaN   \n",
       "3       13749   NaN     Julio          C    Alonso    NaN   \n",
       "4       27780   NaN   Christy          A  Andersen    NaN   \n",
       "\n",
       "             AddressLine1 AddressLine2        City StateProvinceName ...   \\\n",
       "0   8727 Buena Vista Ave.          NaN     Fremont        California ...    \n",
       "1        3491 Cook Street          NaN       Haney  British Columbia ...    \n",
       "2    359 Pleasant Hill Rd          NaN     Burbank        California ...    \n",
       "3        8945 Euclid Ave.          NaN  Burlingame        California ...    \n",
       "4  42, boulevard Tremblay          NaN   Dunkerque              Nord ...    \n",
       "\n",
       "         Education      Occupation Gender MaritalStatus HomeOwnerFlag  \\\n",
       "0       Bachelors       Management      F             S             0   \n",
       "1       Bachelors   Skilled Manual      M             M             1   \n",
       "2  Graduate Degree      Management      F             M             1   \n",
       "3  Graduate Degree  Skilled Manual      M             M             1   \n",
       "4      High School          Manual      F             M             1   \n",
       "\n",
       "  NumberCarsOwned NumberChildrenAtHome TotalChildren  YearlyIncome  Age  \n",
       "0               2                    0             5         86931   53  \n",
       "1               2                    2             4        100125   34  \n",
       "2               2                    0             4        103985   64  \n",
       "3               0                    0             4        127161   40  \n",
       "4               1                    2             2         21876   33  \n",
       "\n",
       "[5 rows x 24 columns]"
      ]
     },
     "execution_count": 84,
     "metadata": {},
     "output_type": "execute_result"
    }
   ],
   "source": []
  },
  {
   "cell_type": "code",
   "execution_count": 85,
   "metadata": {
    "collapsed": true
   },
   "outputs": [],
   "source": [
    "# Binarize the MaritalStatus to 1 or 0\n",
    "AW_Test['Married'] = (AW_Test['MaritalStatus'] == 'M')*1"
   ]
  },
  {
   "cell_type": "code",
   "execution_count": 86,
   "metadata": {
    "collapsed": true
   },
   "outputs": [],
   "source": [
    "AW_TestCopy = AW_Test.copy()"
   ]
  },
  {
   "cell_type": "code",
   "execution_count": 87,
   "metadata": {},
   "outputs": [
    {
     "data": {
      "text/plain": [
       "Professional      146\n",
       "Skilled Manual    134\n",
       "Management         91\n",
       "Clerical           73\n",
       "Manual             56\n",
       "Name: Occupation, dtype: int64"
      ]
     },
     "execution_count": 87,
     "metadata": {},
     "output_type": "execute_result"
    }
   ],
   "source": [
    "AW_TestCopy['Occupation'].value_counts()"
   ]
  },
  {
   "cell_type": "code",
   "execution_count": 88,
   "metadata": {},
   "outputs": [
    {
     "data": {
      "text/plain": [
       "Bachelors              148\n",
       "Partial College        144\n",
       "Graduate Degree         85\n",
       "High School             77\n",
       "Partial High School     46\n",
       "Name: Education, dtype: int64"
      ]
     },
     "execution_count": 88,
     "metadata": {},
     "output_type": "execute_result"
    }
   ],
   "source": [
    "AW_TestCopy['Education'].value_counts()"
   ]
  },
  {
   "cell_type": "code",
   "execution_count": 90,
   "metadata": {},
   "outputs": [
    {
     "data": {
      "text/html": [
       "<div>\n",
       "<style>\n",
       "    .dataframe thead tr:only-child th {\n",
       "        text-align: right;\n",
       "    }\n",
       "\n",
       "    .dataframe thead th {\n",
       "        text-align: left;\n",
       "    }\n",
       "\n",
       "    .dataframe tbody tr th {\n",
       "        vertical-align: top;\n",
       "    }\n",
       "</style>\n",
       "<table border=\"1\" class=\"dataframe\">\n",
       "  <thead>\n",
       "    <tr style=\"text-align: right;\">\n",
       "      <th></th>\n",
       "      <th>CustomerID</th>\n",
       "      <th>HomeOwnerFlag</th>\n",
       "      <th>NumberCarsOwned</th>\n",
       "      <th>NumberChildrenAtHome</th>\n",
       "      <th>TotalChildren</th>\n",
       "      <th>YearlyIncome</th>\n",
       "      <th>Age</th>\n",
       "      <th>Married</th>\n",
       "    </tr>\n",
       "  </thead>\n",
       "  <tbody>\n",
       "    <tr>\n",
       "      <th>count</th>\n",
       "      <td>500.000000</td>\n",
       "      <td>500.000000</td>\n",
       "      <td>500.000000</td>\n",
       "      <td>500.000000</td>\n",
       "      <td>500.000000</td>\n",
       "      <td>500.000000</td>\n",
       "      <td>500.000000</td>\n",
       "      <td>500.000000</td>\n",
       "    </tr>\n",
       "    <tr>\n",
       "      <th>mean</th>\n",
       "      <td>20268.290000</td>\n",
       "      <td>0.666000</td>\n",
       "      <td>1.592000</td>\n",
       "      <td>1.150000</td>\n",
       "      <td>2.188000</td>\n",
       "      <td>81795.474000</td>\n",
       "      <td>36.468000</td>\n",
       "      <td>0.564000</td>\n",
       "    </tr>\n",
       "    <tr>\n",
       "      <th>std</th>\n",
       "      <td>5385.050297</td>\n",
       "      <td>0.472112</td>\n",
       "      <td>1.136715</td>\n",
       "      <td>1.596433</td>\n",
       "      <td>1.696589</td>\n",
       "      <td>40627.641775</td>\n",
       "      <td>10.974235</td>\n",
       "      <td>0.496384</td>\n",
       "    </tr>\n",
       "    <tr>\n",
       "      <th>min</th>\n",
       "      <td>11018.000000</td>\n",
       "      <td>0.000000</td>\n",
       "      <td>0.000000</td>\n",
       "      <td>0.000000</td>\n",
       "      <td>0.000000</td>\n",
       "      <td>10588.000000</td>\n",
       "      <td>18.000000</td>\n",
       "      <td>0.000000</td>\n",
       "    </tr>\n",
       "    <tr>\n",
       "      <th>25%</th>\n",
       "      <td>15464.250000</td>\n",
       "      <td>0.000000</td>\n",
       "      <td>1.000000</td>\n",
       "      <td>0.000000</td>\n",
       "      <td>1.000000</td>\n",
       "      <td>50273.750000</td>\n",
       "      <td>28.000000</td>\n",
       "      <td>0.000000</td>\n",
       "    </tr>\n",
       "    <tr>\n",
       "      <th>50%</th>\n",
       "      <td>20452.000000</td>\n",
       "      <td>1.000000</td>\n",
       "      <td>2.000000</td>\n",
       "      <td>0.000000</td>\n",
       "      <td>2.000000</td>\n",
       "      <td>82298.000000</td>\n",
       "      <td>35.000000</td>\n",
       "      <td>1.000000</td>\n",
       "    </tr>\n",
       "    <tr>\n",
       "      <th>75%</th>\n",
       "      <td>24789.000000</td>\n",
       "      <td>1.000000</td>\n",
       "      <td>2.000000</td>\n",
       "      <td>2.000000</td>\n",
       "      <td>4.000000</td>\n",
       "      <td>107067.750000</td>\n",
       "      <td>44.000000</td>\n",
       "      <td>1.000000</td>\n",
       "    </tr>\n",
       "    <tr>\n",
       "      <th>max</th>\n",
       "      <td>29483.000000</td>\n",
       "      <td>1.000000</td>\n",
       "      <td>4.000000</td>\n",
       "      <td>5.000000</td>\n",
       "      <td>5.000000</td>\n",
       "      <td>184897.000000</td>\n",
       "      <td>69.000000</td>\n",
       "      <td>1.000000</td>\n",
       "    </tr>\n",
       "  </tbody>\n",
       "</table>\n",
       "</div>"
      ],
      "text/plain": [
       "         CustomerID  HomeOwnerFlag  NumberCarsOwned  NumberChildrenAtHome  \\\n",
       "count    500.000000     500.000000       500.000000            500.000000   \n",
       "mean   20268.290000       0.666000         1.592000              1.150000   \n",
       "std     5385.050297       0.472112         1.136715              1.596433   \n",
       "min    11018.000000       0.000000         0.000000              0.000000   \n",
       "25%    15464.250000       0.000000         1.000000              0.000000   \n",
       "50%    20452.000000       1.000000         2.000000              0.000000   \n",
       "75%    24789.000000       1.000000         2.000000              2.000000   \n",
       "max    29483.000000       1.000000         4.000000              5.000000   \n",
       "\n",
       "       TotalChildren   YearlyIncome         Age     Married  \n",
       "count     500.000000     500.000000  500.000000  500.000000  \n",
       "mean        2.188000   81795.474000   36.468000    0.564000  \n",
       "std         1.696589   40627.641775   10.974235    0.496384  \n",
       "min         0.000000   10588.000000   18.000000    0.000000  \n",
       "25%         1.000000   50273.750000   28.000000    0.000000  \n",
       "50%         2.000000   82298.000000   35.000000    1.000000  \n",
       "75%         4.000000  107067.750000   44.000000    1.000000  \n",
       "max         5.000000  184897.000000   69.000000    1.000000  "
      ]
     },
     "execution_count": 90,
     "metadata": {},
     "output_type": "execute_result"
    }
   ],
   "source": [
    "AW_TestCopy.describe()"
   ]
  },
  {
   "cell_type": "code",
   "execution_count": 91,
   "metadata": {
    "collapsed": true
   },
   "outputs": [],
   "source": [
    "# Convert categorical variable Occupation to numeric variables for regression analysis\n",
    "Career= {\"Occupation\": {\"Professional\": 1, \"Skilled Manual\": 2, \"Management\": 3, \"Clerical\": 4, \"Manual\": 5} }"
   ]
  },
  {
   "cell_type": "code",
   "execution_count": 92,
   "metadata": {
    "collapsed": true
   },
   "outputs": [],
   "source": [
    "School = {\"Education\":{\"Partial High School\": 1,\"High School\": 2, \"Partial College\": 3, \"Bachelors \": 4, \"Graduate Degree\":5}}"
   ]
  },
  {
   "cell_type": "code",
   "execution_count": 93,
   "metadata": {},
   "outputs": [
    {
     "data": {
      "text/plain": [
       "Bachelors              148\n",
       "Partial College        144\n",
       "Graduate Degree         85\n",
       "High School             77\n",
       "Partial High School     46\n",
       "Name: Education, dtype: int64"
      ]
     },
     "execution_count": 93,
     "metadata": {},
     "output_type": "execute_result"
    }
   ],
   "source": [
    "AW_TestCopy['Education'].value_counts()"
   ]
  },
  {
   "cell_type": "code",
   "execution_count": 94,
   "metadata": {
    "collapsed": true
   },
   "outputs": [],
   "source": [
    "AW_TestCopy.replace(School, inplace=True)"
   ]
  },
  {
   "cell_type": "code",
   "execution_count": 95,
   "metadata": {},
   "outputs": [
    {
     "data": {
      "text/plain": [
       "4    148\n",
       "3    144\n",
       "5     85\n",
       "2     77\n",
       "1     46\n",
       "Name: Education, dtype: int64"
      ]
     },
     "execution_count": 95,
     "metadata": {},
     "output_type": "execute_result"
    }
   ],
   "source": [
    "AW_TestCopy['Education'].value_counts()"
   ]
  },
  {
   "cell_type": "code",
   "execution_count": 96,
   "metadata": {
    "collapsed": true
   },
   "outputs": [],
   "source": [
    "AW_TestCopy.replace(Career, inplace=True)"
   ]
  },
  {
   "cell_type": "code",
   "execution_count": 98,
   "metadata": {},
   "outputs": [
    {
     "data": {
      "text/plain": [
       "1    146\n",
       "2    134\n",
       "3     91\n",
       "4     73\n",
       "5     56\n",
       "Name: Occupation, dtype: int64"
      ]
     },
     "execution_count": 98,
     "metadata": {},
     "output_type": "execute_result"
    }
   ],
   "source": [
    "AW_TestCopy['Occupation'].value_counts()"
   ]
  },
  {
   "cell_type": "code",
   "execution_count": 100,
   "metadata": {},
   "outputs": [
    {
     "data": {
      "text/plain": [
       "CustomerID                       int64\n",
       "Title                           object\n",
       "FirstName                       object\n",
       "MiddleName                      object\n",
       "LastName                        object\n",
       "Suffix                          object\n",
       "AddressLine1                    object\n",
       "AddressLine2                    object\n",
       "City                            object\n",
       "StateProvinceName               object\n",
       "CountryRegionName               object\n",
       "PostalCode                      object\n",
       "PhoneNumber                     object\n",
       "BirthDate               datetime64[ns]\n",
       "Education                        int64\n",
       "Occupation                       int64\n",
       "Gender                          object\n",
       "MaritalStatus                   object\n",
       "HomeOwnerFlag                    int64\n",
       "NumberCarsOwned                  int64\n",
       "NumberChildrenAtHome             int64\n",
       "TotalChildren                    int64\n",
       "YearlyIncome                     int64\n",
       "Age                              int64\n",
       "Married                          int64\n",
       "dtype: object"
      ]
     },
     "execution_count": 100,
     "metadata": {},
     "output_type": "execute_result"
    }
   ],
   "source": [
    "AW_TestCopy.dtypes"
   ]
  },
  {
   "cell_type": "code",
   "execution_count": 101,
   "metadata": {},
   "outputs": [
    {
     "data": {
      "text/plain": [
       "Index(['CustomerID', 'Title', 'FirstName', 'MiddleName', 'LastName', 'Suffix',\n",
       "       'AddressLine1', 'AddressLine2', 'City', 'StateProvinceName',\n",
       "       'CountryRegionName', 'PostalCode', 'PhoneNumber', 'BirthDate',\n",
       "       'Education', 'Occupation', 'Gender', 'MaritalStatus', 'HomeOwnerFlag',\n",
       "       'NumberCarsOwned', 'NumberChildrenAtHome', 'TotalChildren',\n",
       "       'YearlyIncome', 'Age', 'Married'],\n",
       "      dtype='object')"
      ]
     },
     "execution_count": 101,
     "metadata": {},
     "output_type": "execute_result"
    }
   ],
   "source": [
    "## set columns to use as features\n",
    "AW_TestCopy.columns"
   ]
  },
  {
   "cell_type": "code",
   "execution_count": 102,
   "metadata": {
    "collapsed": true
   },
   "outputs": [],
   "source": [
    "features = ['Education', 'Occupation','HomeOwnerFlag','NumberCarsOwned', \n",
    "            'NumberChildrenAtHome', 'TotalChildren', 'YearlyIncome', 'Age','Married']"
   ]
  },
  {
   "cell_type": "markdown",
   "metadata": {},
   "source": [
    "## Perform prediction on the new test data (X)"
   ]
  },
  {
   "cell_type": "code",
   "execution_count": 106,
   "metadata": {
    "collapsed": true
   },
   "outputs": [],
   "source": [
    "X = AW_TestCopy[features]"
   ]
  },
  {
   "cell_type": "code",
   "execution_count": 107,
   "metadata": {},
   "outputs": [
    {
     "data": {
      "text/plain": [
       "array([  55.25854372,   90.37500094,   63.61987746,   80.18895099,\n",
       "         74.94363634,   56.50947877,   74.74328985,  107.04162198,\n",
       "         88.52454228,   64.81182282,   77.32497167,   62.42416995,\n",
       "         57.62053897,   58.55502753,   47.82187505,   65.68272033,\n",
       "         75.5519518 ,   64.56764314,  132.38391174,   67.61505732,\n",
       "         59.72398618,   60.65773368,  143.65018918,   76.0036698 ,\n",
       "         69.4036861 ,   63.20450439,   68.71491359,  105.00600128,\n",
       "         63.5663114 ,   83.43571159,   80.72805249,   75.30580327,\n",
       "         49.0861365 ,   56.84792089,  119.23527986,   92.07850126,\n",
       "        144.92437919,   80.10521959,   74.46235494,   69.53496483,\n",
       "         59.01420663,   65.88020344,   71.12266492,   64.12049583,\n",
       "         67.90868446,   62.03069815,   76.55376096,  100.95903361,\n",
       "        112.13946465,   68.75958747,   70.99593648,  102.87049782,\n",
       "         97.57159715,   49.1585793 ,   60.58866707,   58.8073159 ,\n",
       "         69.71708235,   62.02495287,   43.625678  ,   57.57872893,\n",
       "         59.09948289,   51.32563839,   77.55759622,   95.53883517,\n",
       "         54.93069407,   90.54985544,   67.2508569 ,  127.06496849,\n",
       "         55.02326492,  122.92394647,   97.56343517,   50.56052283,\n",
       "         80.34237903,   57.62489442,   48.46974284,   96.13238579,\n",
       "         98.29911811,   68.64553127,   82.582862  ,   58.69585307,\n",
       "         96.89334818,   59.46562128,   60.74639855,   88.41837792,\n",
       "         69.76689759,   62.07975466,   73.97253821,  113.51029222,\n",
       "         84.5572604 ,   76.36423083,   71.30516747,  104.41044303,\n",
       "         48.19332505,   63.91767841,   55.91763488,  128.15908891,\n",
       "         48.12394084,   63.57211446,   58.72437698,   66.8913269 ,\n",
       "        124.03957158,   61.88779102,   64.34911172,  115.70897866,\n",
       "         75.82737356,   92.00247182,   51.52715893,   61.86970923,\n",
       "         61.27004921,   85.84044825,  104.55433193,   62.45823532,\n",
       "         95.44486885,   50.64177518,   64.18623097,   73.21504338,\n",
       "         57.03274446,   51.37347176,   62.75503211,   77.81785247,\n",
       "        106.48357824,  102.7806299 ,   73.3998456 ,   53.74572871,\n",
       "         68.01892469,   69.48498132,   53.43114705,   86.05008498,\n",
       "         74.13063291,  117.436551  ,   49.6432429 ,   76.89027373,\n",
       "        102.88956398,   55.43685955,   60.96598401,  133.79642516,\n",
       "        145.01367978,   75.74716414,   67.94372343,   71.76584307,\n",
       "         83.77595514,   53.91773474,  103.12257261,   43.02243229,\n",
       "         94.77865776,   76.20091208,   66.68415325,   47.60123715,\n",
       "         53.36349095,   48.21760576,  112.90541915,   61.30767594,\n",
       "         53.57949883,   59.79314297,  103.62350469,   54.51853569,\n",
       "         63.05339878,   49.94690475,   65.01148481,  115.36415092,\n",
       "         46.21928498,   58.47334106,   68.30514041,   80.6044469 ,\n",
       "        115.21606314,   74.10479788,  119.1066458 ,   96.70645853,\n",
       "         81.63410598,   54.96958169,   67.63949578,   89.75563959,\n",
       "         68.42566829,   68.95829297,   51.60379028,   45.27559383,\n",
       "        121.41838438,   57.53216678,   69.2801425 ,  127.0427804 ,\n",
       "         50.15166493,   54.59833383,  109.27697005,   59.57121749,\n",
       "         47.49534779,   51.14930001,   67.89890812,   47.91119353,\n",
       "         66.22766758,   67.29170964,   74.86607834,   68.00453303,\n",
       "         60.72213522,   72.4996017 ,  106.18036389,   87.12969476,\n",
       "         61.14233311,   58.95148086,   65.48500063,  111.93150623,\n",
       "         70.77460602,   68.94867837,   43.78735346,   67.0193557 ,\n",
       "        116.36183867,   73.25291213,  135.80179956,   78.92064306,\n",
       "         52.17332235,   83.70698451,   63.9447933 ,   53.24107266,\n",
       "        103.02329641,   54.91663762,   60.37945182,   62.77141442,\n",
       "         52.58710763,   71.11407625,   70.4137368 ,   63.29495202,\n",
       "         50.56121739,   65.02809187,  118.39938929,   80.5966349 ,\n",
       "         45.21441784,   59.92742732,   70.86935768,  117.17251796,\n",
       "         69.90352213,   72.23777493,   75.01366222,   67.34012735,\n",
       "         60.11915107,   51.31385059,   93.48592503,   59.88574921,\n",
       "         76.88787292,   86.08611205,   49.90411143,   57.10219979,\n",
       "         76.04470114,   79.25888502,   50.08140396,   42.11693155,\n",
       "         81.1571516 ,   61.61746324,   65.78759112,   63.02045888,\n",
       "         91.74426374,   72.34363921,  110.92680431,   68.31812704,\n",
       "         65.83017639,   47.46431809,  117.97747061,  108.81380943,\n",
       "         67.82418441,   75.46148621,  107.29945123,   70.36965796,\n",
       "         51.36790488,   55.10769484,  109.21794347,   50.93459464,\n",
       "         88.28037999,   80.05116161,   60.74853982,   61.22338134,\n",
       "        104.87161906,   70.48079932,  117.08563638,   53.85254324,\n",
       "         77.16232809,   49.78803971,   95.58739556,   53.51354232,\n",
       "        134.36328923,   67.64153011,   98.96755554,   65.34019703,\n",
       "         75.69415894,   72.53192919,   57.50018884,   46.92400505,\n",
       "         67.01113831,   46.11385212,   62.22953497,   53.27378367,\n",
       "         57.10643009,   53.49989891,   65.87540768,   63.91022601,\n",
       "         68.19627309,  125.03456273,   60.69541111,  103.31565637,\n",
       "        132.129589  ,   59.5608704 ,   49.36793735,   47.30202845,\n",
       "         57.85850149,   65.18287904,  107.54899198,   84.64604146,\n",
       "         62.5036086 ,   46.23749265,  114.62862912,  136.13279872,\n",
       "        105.01095972,   96.31770698,   56.32912274,  112.08084454,\n",
       "        143.70995969,   69.21331306,   72.66237612,   56.84893367,\n",
       "         47.93493684,   81.63057737,  135.73281789,   59.48417232,\n",
       "         60.77322169,   49.61908964,   61.40040252,   39.71531937,\n",
       "        130.07871407,   40.2111863 ,   55.27727556,   65.98353783,\n",
       "         66.70313063,   58.15420509,   91.16131668,   72.76728235,\n",
       "         98.20017524,   61.97094073,   79.33441402,  132.27505898,\n",
       "         65.84951305,   50.08394463,   98.5257836 ,   65.83764092,\n",
       "         78.85214645,   58.84177853,   62.56768576,   62.68040779,\n",
       "         61.58066996,   45.07886022,   68.40882896,   45.21693223,\n",
       "        118.30475691,   92.07292608,   95.47204135,   59.81070002,\n",
       "         58.48371034,   66.4600819 ,   63.9799862 ,   90.59242943,\n",
       "         94.97863154,   68.13300553,   49.0771451 ,   71.29789519,\n",
       "        130.99180431,   49.17180816,   58.06240327,   88.45279944,\n",
       "         62.77683339,   73.13860853,   58.17077197,   67.4824275 ,\n",
       "         58.03657605,   80.2207901 ,  120.38019497,   52.35240052,\n",
       "         78.26044586,   56.86304832,   94.42149911,   56.22592233,\n",
       "         64.68467977,   55.1626546 ,   50.64306261,  134.21403388,\n",
       "         81.14146676,   96.56108677,   46.71347845,   79.556926  ,\n",
       "         55.82094701,   65.10789688,  114.88105398,   58.64489754,\n",
       "         72.24899918,   74.67486127,   85.67874611,   78.52117518,\n",
       "        108.25037391,   60.34957873,   59.45955743,   61.39833021,\n",
       "         75.89742885,   52.74014175,   48.01490407,   59.22223975,\n",
       "         64.40579863,  137.79038867,  107.69321029,   77.45177997,\n",
       "         67.66415211,   77.69628976,   80.00791076,   59.20029418,\n",
       "         70.01142737,   59.74829795,   95.98266617,   51.74396028,\n",
       "         66.51188058,   70.09819272,   72.35147953,   63.22234415,\n",
       "         68.76358751,  136.39024633,   96.72821292,   52.21025493,\n",
       "         58.52778346,   47.38661318,   64.91290247,   51.67224405,\n",
       "         72.87677517,   59.9224164 ,   62.88653669,   49.90030231,\n",
       "         49.21259826,   45.58696031,   52.96608956,   83.8827846 ,\n",
       "         78.46241155,  106.37687519,   96.86744309,   67.35355094,\n",
       "         77.99856073,   88.65549277,   61.075259  ,  111.01788092,\n",
       "         68.70039497,  123.02659454,   85.80917605,  107.63098465,\n",
       "         49.08474873,   66.29167436,   57.27976387,   99.08447912,\n",
       "         47.16644144,   57.16238015,   37.81445657,  104.91318867,\n",
       "         75.81048691,   68.16381287,   60.71761618,   65.87397378,\n",
       "         70.57096058,   55.99233555,   63.75083817,   80.08797852,\n",
       "         77.0260567 ,   49.63878516,   91.71244581,   58.20470044,\n",
       "        107.01558988,   90.54013736,   66.13325288,   73.40494114,\n",
       "         69.69192353,   73.71380669,   56.20654571,   79.49792923,\n",
       "         86.20284721,   63.46430876,   43.08965034,   49.39193414,\n",
       "         52.72882446,  128.2331084 ,  120.01407997,  111.22901396,\n",
       "        132.21097886,   71.04417561,  130.40002566,   63.36322664,\n",
       "         59.21869763,   36.6217232 ,  140.75964938,   63.61805672,\n",
       "         78.72213063,  107.43289784,   81.63400162,  101.88286811,\n",
       "        130.59940558,   92.39738577,   73.67595164,   63.5325652 ,\n",
       "        103.9251962 ,   97.69840369,   73.56496163,   36.77741488])"
      ]
     },
     "execution_count": 107,
     "metadata": {},
     "output_type": "execute_result"
    }
   ],
   "source": [
    "## use the linear regressor\n",
    "y_exam_prediction = lRegressor.predict(X)\n",
    "y_exam_prediction"
   ]
  },
  {
   "cell_type": "code",
   "execution_count": 111,
   "metadata": {},
   "outputs": [
    {
     "data": {
      "text/plain": [
       "array([  47.55555556,  107.69090909,   62.45454545,   85.83950617,\n",
       "         67.07142857,   54.21363636,   65.14      ,  102.5       ,\n",
       "         62.        ,   56.36363636,   69.33333333,   55.41071429,\n",
       "         61.49529781,   47.41860465,   42.86363636,   62.47727273,\n",
       "         82.12      ,   57.68421053,  137.        ,   67.69491525,\n",
       "         58.88709677,   61.49529781,  151.        ,   76.02803738,\n",
       "         58.4057971 ,   66.75      ,   69.55      ,  121.78571429,\n",
       "         66.95555556,   80.25      ,   65.14      ,   73.23404255,\n",
       "         47.41860465,   53.69767442,  105.12903226,  103.25      ,\n",
       "        167.11111111,   72.6       ,   74.61538462,   69.55      ,\n",
       "         53.52688172,   50.25      ,   71.62921348,   74.26804124,\n",
       "         69.55      ,   61.49529781,   84.        ,  121.78571429,\n",
       "        122.38095238,   61.6       ,   72.21428571,   90.        ,\n",
       "         85.08      ,   52.02631579,   56.26470588,   61.49529781,\n",
       "         61.40229885,   66.75438596,   54.23076923,   63.925     ,\n",
       "         48.375     ,   49.08163265,   83.58928571,   84.        ,\n",
       "         63.05555556,   79.2173913 ,   77.54255319,  149.5       ,\n",
       "         48.3968254 ,   95.37142857,   79.11111111,   55.75675676,\n",
       "         88.26506024,   54.21363636,   53.        ,   94.77777778,\n",
       "        100.4       ,   91.        ,   79.47058824,   51.74418605,\n",
       "        120.02564103,   54.93396226,   63.6       ,   85.33333333,\n",
       "         88.16666667,   57.79069767,   76.02803738,  108.66666667,\n",
       "         87.25      ,   56.38235294,   50.85714286,  135.66666667,\n",
       "         47.55555556,   65.36363636,   52.02631579,  150.        ,\n",
       "         49.43594646,   74.26804124,   61.49529781,   55.41071429,\n",
       "         99.5       ,   43.        ,   64.03361345,  121.        ,\n",
       "         76.02803738,  102.8125    ,   49.43594646,   68.38095238,\n",
       "         66.75438596,   80.25      ,  120.02564103,   51.25925926,\n",
       "         83.46666667,   48.3968254 ,   61.49529781,   89.88235294,\n",
       "         52.05531915,   54.93396226,   57.68421053,   74.61538462,\n",
       "        120.02564103,   86.        ,   77.54255319,   49.24528302,\n",
       "         66.95555556,   61.40229885,   52.05531915,   89.22580645,\n",
       "         67.69491525,  121.5       ,   48.3968254 ,   80.2       ,\n",
       "        128.        ,   54.93396226,   55.41071429,  103.25      ,\n",
       "        165.68421053,   76.17708333,   85.33333333,   64.5       ,\n",
       "         85.83950617,   54.21363636,   97.        ,   49.66666667,\n",
       "         69.6       ,   61.40229885,   64.03361345,   52.02631579,\n",
       "         52.02631579,   42.86363636,   91.        ,   49.08163265,\n",
       "         60.6627907 ,   64.03361345,  103.        ,   49.43594646,\n",
       "         56.19047619,   54.21363636,   77.        ,  116.36363636,\n",
       "         49.24528302,   54.93396226,   60.8       ,  100.25      ,\n",
       "        104.96153846,   90.        ,  137.8       ,  104.        ,\n",
       "         89.22580645,   48.3968254 ,   74.26804124,   69.6       ,\n",
       "         71.62921348,   76.17708333,   58.16129032,   49.43594646,\n",
       "        102.33333333,   61.49529781,   50.8       ,   95.37142857,\n",
       "         49.24528302,   54.93396226,   98.        ,   55.75675676,\n",
       "         49.43594646,   47.57142857,   59.25      ,   52.02631579,\n",
       "         64.03361345,   67.69491525,   76.17708333,   66.19607843,\n",
       "         62.47727273,   84.47619048,   86.85365854,   59.3       ,\n",
       "         51.25925926,   62.47727273,   74.25      ,   83.0625    ,\n",
       "         61.40229885,   71.62921348,   49.43594646,   71.75824176,\n",
       "        143.81132075,   76.17708333,   99.8       ,   95.5625    ,\n",
       "         70.        ,   67.04166667,   61.49529781,   48.6       ,\n",
       "         95.07142857,   54.93396226,   54.93396226,   77.        ,\n",
       "         61.49529781,   61.40229885,   68.96363636,   80.8125    ,\n",
       "         47.57142857,   66.95555556,   90.875     ,   74.25      ,\n",
       "         49.43594646,   60.6       ,   61.40229885,  121.25      ,\n",
       "         67.69491525,   64.17647059,   88.10526316,   73.5       ,\n",
       "         61.49529781,   58.88709677,  119.16666667,   58.88709677,\n",
       "         87.33333333,  107.69090909,   47.57142857,   69.71428571,\n",
       "         88.26506024,   74.45833333,   52.05531915,   49.43594646,\n",
       "         72.6       ,   65.21052632,   65.21052632,   63.925     ,\n",
       "         97.        ,   88.26506024,  100.        ,   57.5       ,\n",
       "         50.25      ,   47.41860465,  135.2       ,   91.22222222,\n",
       "         64.03361345,   71.75824176,  135.2       ,   71.62921348,\n",
       "         54.21363636,   54.93396226,   91.2       ,   52.05531915,\n",
       "         77.6       ,   65.14      ,   54.93396226,   66.95555556,\n",
       "        118.        ,   61.40229885,  153.81632653,   58.16129032,\n",
       "         78.44444444,   52.05531915,   74.61538462,   49.08163265,\n",
       "        150.        ,   71.75824176,  110.25      ,   61.49529781,\n",
       "         83.58928571,   61.40229885,   48.375     ,   49.43594646,\n",
       "         74.        ,   49.43594646,   66.75438596,   54.21363636,\n",
       "         51.        ,   63.33333333,   74.26804124,   51.74418605,\n",
       "         69.55      ,  143.81132075,   65.21052632,  114.72727273,\n",
       "        152.5       ,   58.88709677,   52.05531915,   49.24528302,\n",
       "         53.52688172,   69.34615385,  110.        ,   84.91011236,\n",
       "         66.19607843,   49.43594646,   95.37142857,  153.81632653,\n",
       "         90.        ,   75.36363636,   60.6627907 ,   98.        ,\n",
       "        165.68421053,   58.4057971 ,   71.62921348,   57.29166667,\n",
       "         42.86363636,   74.45833333,  154.64705882,   65.57142857,\n",
       "         54.21363636,   52.02631579,   63.26470588,   52.85714286,\n",
       "        149.9       ,   45.44444444,   54.93396226,   77.54255319,\n",
       "         69.55      ,   53.52688172,   82.92857143,   64.5       ,\n",
       "         81.        ,   69.34615385,   95.5625    ,  111.2       ,\n",
       "         71.75824176,   52.05531915,  104.96153846,   58.18518519,\n",
       "         88.26506024,   61.49529781,   66.75438596,   66.95555556,\n",
       "         65.21052632,   52.02631579,   67.08571429,   45.20588235,\n",
       "        144.88235294,  100.        ,   69.66666667,   52.18181818,\n",
       "         53.69767442,   90.        ,   66.19607843,   83.375     ,\n",
       "         83.0625    ,   75.14285714,   49.43594646,   76.17708333,\n",
       "         99.8       ,   47.57142857,   61.49529781,  107.69090909,\n",
       "         63.925     ,   67.07142857,   63.925     ,   56.26470588,\n",
       "         48.375     ,   72.6       ,  143.81132075,   55.68181818,\n",
       "         75.875     ,   63.05555556,  119.        ,   53.52688172,\n",
       "         66.95555556,   53.75714286,   52.05531915,  101.76190476,\n",
       "         65.14      ,   79.2173913 ,   49.43594646,   75.        ,\n",
       "         53.52688172,   56.96551724,  122.38095238,   63.05555556,\n",
       "         84.91011236,   77.54255319,   89.22580645,   56.38235294,\n",
       "         89.28205128,   57.29166667,   54.93396226,   61.49529781,\n",
       "         77.54255319,   52.02631579,   52.02631579,   61.49529781,\n",
       "         73.5       ,  154.64705882,   84.5       ,   90.        ,\n",
       "         54.        ,   79.47058824,  115.        ,   57.29166667,\n",
       "         71.62921348,   53.75714286,   86.55555556,   52.05531915,\n",
       "         68.96363636,   84.91011236,   67.69491525,   61.49529781,\n",
       "         88.26506024,  137.        ,   96.96551724,   54.93396226,\n",
       "         60.6       ,   49.43594646,   64.5       ,   58.88709677,\n",
       "         56.38235294,   57.29166667,   63.6       ,   49.43594646,\n",
       "         49.43594646,   49.43594646,   52.05531915,   73.84210526,\n",
       "         88.26506024,  127.28571429,   81.        ,   63.26470588,\n",
       "        101.5       ,   85.08      ,   61.49529781,   97.        ,\n",
       "         71.62921348,   95.66666667,   89.22580645,   96.        ,\n",
       "         52.02631579,   66.95555556,   53.75714286,  105.        ,\n",
       "         49.43594646,   53.52688172,   36.2       ,  121.78571429,\n",
       "         76.02803738,   74.26804124,   50.07692308,   63.26470588,\n",
       "         68.96363636,   54.93396226,   61.49529781,   88.26506024,\n",
       "         80.58333333,   49.43594646,   87.16666667,   52.02631579,\n",
       "         95.07142857,   79.2173913 ,   69.34615385,   88.26506024,\n",
       "         68.96363636,   61.40229885,   53.52688172,   79.47058824,\n",
       "         97.5       ,   65.21052632,   49.43594646,   54.93396226,\n",
       "         51.        ,  149.9       ,  132.875     ,  128.27272727,\n",
       "        138.08333333,   71.62921348,  147.25      ,   74.77777778,\n",
       "         65.21052632,   45.44444444,  161.        ,   62.47727273,\n",
       "         56.        ,   86.85365854,   67.04166667,   88.76470588,\n",
       "        149.9       ,   71.53333333,   76.02803738,   56.19047619,\n",
       "         86.28571429,   86.85365854,   76.17708333,   42.86363636])"
      ]
     },
     "execution_count": 111,
     "metadata": {},
     "output_type": "execute_result"
    }
   ],
   "source": [
    "## Try the decision tree regressor\n",
    "y_exam_predictiondt = DTRegressor.predict(X)\n",
    "y_exam_predictiondt"
   ]
  },
  {
   "cell_type": "code",
   "execution_count": 116,
   "metadata": {},
   "outputs": [],
   "source": [
    "DecisionTreePrediction = pd.Series(y_exam_predictiondt)"
   ]
  },
  {
   "cell_type": "code",
   "execution_count": 117,
   "metadata": {},
   "outputs": [],
   "source": [
    "LinearPredictionList = pd.Series(y_exam_prediction)"
   ]
  },
  {
   "cell_type": "code",
   "execution_count": 118,
   "metadata": {},
   "outputs": [],
   "source": [
    "LinearPredictionList.to_csv('AveMontlySpendLRPrediction.csv')\n",
    "DecisionTreePrediction.to_csv('AveMonthlySpendDTPrediciton.csv')"
   ]
  },
  {
   "cell_type": "code",
   "execution_count": 119,
   "metadata": {},
   "outputs": [
    {
     "data": {
      "text/plain": [
       "['Education',\n",
       " 'Occupation',\n",
       " 'HomeOwnerFlag',\n",
       " 'NumberCarsOwned',\n",
       " 'NumberChildrenAtHome',\n",
       " 'TotalChildren',\n",
       " 'YearlyIncome',\n",
       " 'Age',\n",
       " 'Married']"
      ]
     },
     "execution_count": 119,
     "metadata": {},
     "output_type": "execute_result"
    }
   ],
   "source": [
    "features"
   ]
  },
  {
   "cell_type": "code",
   "execution_count": 123,
   "metadata": {},
   "outputs": [
    {
     "data": {
      "text/plain": [
       "['Education',\n",
       " 'Occupation',\n",
       " 'HomeOwnerFlag',\n",
       " 'NumberCarsOwned',\n",
       " 'NumberChildrenAtHome',\n",
       " 'TotalChildren',\n",
       " 'YearlyIncome',\n",
       " 'Age',\n",
       " 'Married']"
      ]
     },
     "execution_count": 123,
     "metadata": {},
     "output_type": "execute_result"
    }
   ],
   "source": [
    "features"
   ]
  },
  {
   "cell_type": "code",
   "execution_count": 125,
   "metadata": {},
   "outputs": [
    {
     "data": {
      "text/html": [
       "<div>\n",
       "<style>\n",
       "    .dataframe thead tr:only-child th {\n",
       "        text-align: right;\n",
       "    }\n",
       "\n",
       "    .dataframe thead th {\n",
       "        text-align: left;\n",
       "    }\n",
       "\n",
       "    .dataframe tbody tr th {\n",
       "        vertical-align: top;\n",
       "    }\n",
       "</style>\n",
       "<table border=\"1\" class=\"dataframe\">\n",
       "  <thead>\n",
       "    <tr style=\"text-align: right;\">\n",
       "      <th></th>\n",
       "      <th>Education</th>\n",
       "      <th>Occupation</th>\n",
       "      <th>HomeOwnerFlag</th>\n",
       "      <th>NumberCarsOwned</th>\n",
       "      <th>NumberChildrenAtHome</th>\n",
       "      <th>TotalChildren</th>\n",
       "      <th>YearlyIncome</th>\n",
       "      <th>Age</th>\n",
       "      <th>Married</th>\n",
       "    </tr>\n",
       "  </thead>\n",
       "  <tbody>\n",
       "    <tr>\n",
       "      <th>0</th>\n",
       "      <td>4</td>\n",
       "      <td>3</td>\n",
       "      <td>0</td>\n",
       "      <td>2</td>\n",
       "      <td>0</td>\n",
       "      <td>5</td>\n",
       "      <td>86931</td>\n",
       "      <td>53</td>\n",
       "      <td>0</td>\n",
       "    </tr>\n",
       "    <tr>\n",
       "      <th>1</th>\n",
       "      <td>4</td>\n",
       "      <td>2</td>\n",
       "      <td>1</td>\n",
       "      <td>2</td>\n",
       "      <td>2</td>\n",
       "      <td>4</td>\n",
       "      <td>100125</td>\n",
       "      <td>34</td>\n",
       "      <td>1</td>\n",
       "    </tr>\n",
       "    <tr>\n",
       "      <th>2</th>\n",
       "      <td>5</td>\n",
       "      <td>3</td>\n",
       "      <td>1</td>\n",
       "      <td>2</td>\n",
       "      <td>0</td>\n",
       "      <td>4</td>\n",
       "      <td>103985</td>\n",
       "      <td>64</td>\n",
       "      <td>1</td>\n",
       "    </tr>\n",
       "    <tr>\n",
       "      <th>3</th>\n",
       "      <td>5</td>\n",
       "      <td>2</td>\n",
       "      <td>1</td>\n",
       "      <td>0</td>\n",
       "      <td>0</td>\n",
       "      <td>4</td>\n",
       "      <td>127161</td>\n",
       "      <td>40</td>\n",
       "      <td>1</td>\n",
       "    </tr>\n",
       "    <tr>\n",
       "      <th>4</th>\n",
       "      <td>2</td>\n",
       "      <td>5</td>\n",
       "      <td>1</td>\n",
       "      <td>1</td>\n",
       "      <td>2</td>\n",
       "      <td>2</td>\n",
       "      <td>21876</td>\n",
       "      <td>33</td>\n",
       "      <td>1</td>\n",
       "    </tr>\n",
       "    <tr>\n",
       "      <th>5</th>\n",
       "      <td>3</td>\n",
       "      <td>4</td>\n",
       "      <td>1</td>\n",
       "      <td>1</td>\n",
       "      <td>0</td>\n",
       "      <td>1</td>\n",
       "      <td>44467</td>\n",
       "      <td>41</td>\n",
       "      <td>1</td>\n",
       "    </tr>\n",
       "    <tr>\n",
       "      <th>6</th>\n",
       "      <td>4</td>\n",
       "      <td>2</td>\n",
       "      <td>1</td>\n",
       "      <td>2</td>\n",
       "      <td>2</td>\n",
       "      <td>4</td>\n",
       "      <td>77702</td>\n",
       "      <td>34</td>\n",
       "      <td>0</td>\n",
       "    </tr>\n",
       "    <tr>\n",
       "      <th>7</th>\n",
       "      <td>4</td>\n",
       "      <td>1</td>\n",
       "      <td>1</td>\n",
       "      <td>3</td>\n",
       "      <td>4</td>\n",
       "      <td>4</td>\n",
       "      <td>99418</td>\n",
       "      <td>34</td>\n",
       "      <td>1</td>\n",
       "    </tr>\n",
       "    <tr>\n",
       "      <th>8</th>\n",
       "      <td>1</td>\n",
       "      <td>5</td>\n",
       "      <td>1</td>\n",
       "      <td>1</td>\n",
       "      <td>4</td>\n",
       "      <td>4</td>\n",
       "      <td>13522</td>\n",
       "      <td>32</td>\n",
       "      <td>0</td>\n",
       "    </tr>\n",
       "    <tr>\n",
       "      <th>9</th>\n",
       "      <td>4</td>\n",
       "      <td>2</td>\n",
       "      <td>1</td>\n",
       "      <td>1</td>\n",
       "      <td>1</td>\n",
       "      <td>1</td>\n",
       "      <td>46264</td>\n",
       "      <td>25</td>\n",
       "      <td>1</td>\n",
       "    </tr>\n",
       "    <tr>\n",
       "      <th>10</th>\n",
       "      <td>2</td>\n",
       "      <td>1</td>\n",
       "      <td>1</td>\n",
       "      <td>1</td>\n",
       "      <td>1</td>\n",
       "      <td>2</td>\n",
       "      <td>96375</td>\n",
       "      <td>43</td>\n",
       "      <td>0</td>\n",
       "    </tr>\n",
       "    <tr>\n",
       "      <th>11</th>\n",
       "      <td>3</td>\n",
       "      <td>1</td>\n",
       "      <td>1</td>\n",
       "      <td>2</td>\n",
       "      <td>0</td>\n",
       "      <td>3</td>\n",
       "      <td>77688</td>\n",
       "      <td>42</td>\n",
       "      <td>1</td>\n",
       "    </tr>\n",
       "    <tr>\n",
       "      <th>12</th>\n",
       "      <td>2</td>\n",
       "      <td>2</td>\n",
       "      <td>1</td>\n",
       "      <td>2</td>\n",
       "      <td>0</td>\n",
       "      <td>2</td>\n",
       "      <td>52127</td>\n",
       "      <td>42</td>\n",
       "      <td>1</td>\n",
       "    </tr>\n",
       "    <tr>\n",
       "      <th>13</th>\n",
       "      <td>2</td>\n",
       "      <td>1</td>\n",
       "      <td>1</td>\n",
       "      <td>2</td>\n",
       "      <td>0</td>\n",
       "      <td>4</td>\n",
       "      <td>60978</td>\n",
       "      <td>49</td>\n",
       "      <td>1</td>\n",
       "    </tr>\n",
       "    <tr>\n",
       "      <th>14</th>\n",
       "      <td>3</td>\n",
       "      <td>2</td>\n",
       "      <td>1</td>\n",
       "      <td>1</td>\n",
       "      <td>0</td>\n",
       "      <td>0</td>\n",
       "      <td>36915</td>\n",
       "      <td>19</td>\n",
       "      <td>0</td>\n",
       "    </tr>\n",
       "    <tr>\n",
       "      <th>15</th>\n",
       "      <td>5</td>\n",
       "      <td>1</td>\n",
       "      <td>1</td>\n",
       "      <td>0</td>\n",
       "      <td>0</td>\n",
       "      <td>0</td>\n",
       "      <td>86445</td>\n",
       "      <td>32</td>\n",
       "      <td>1</td>\n",
       "    </tr>\n",
       "    <tr>\n",
       "      <th>16</th>\n",
       "      <td>5</td>\n",
       "      <td>2</td>\n",
       "      <td>1</td>\n",
       "      <td>0</td>\n",
       "      <td>0</td>\n",
       "      <td>4</td>\n",
       "      <td>113658</td>\n",
       "      <td>39</td>\n",
       "      <td>1</td>\n",
       "    </tr>\n",
       "    <tr>\n",
       "      <th>17</th>\n",
       "      <td>1</td>\n",
       "      <td>2</td>\n",
       "      <td>1</td>\n",
       "      <td>2</td>\n",
       "      <td>0</td>\n",
       "      <td>2</td>\n",
       "      <td>83326</td>\n",
       "      <td>41</td>\n",
       "      <td>0</td>\n",
       "    </tr>\n",
       "    <tr>\n",
       "      <th>18</th>\n",
       "      <td>3</td>\n",
       "      <td>3</td>\n",
       "      <td>1</td>\n",
       "      <td>3</td>\n",
       "      <td>5</td>\n",
       "      <td>5</td>\n",
       "      <td>142823</td>\n",
       "      <td>25</td>\n",
       "      <td>0</td>\n",
       "    </tr>\n",
       "    <tr>\n",
       "      <th>19</th>\n",
       "      <td>3</td>\n",
       "      <td>4</td>\n",
       "      <td>1</td>\n",
       "      <td>2</td>\n",
       "      <td>2</td>\n",
       "      <td>2</td>\n",
       "      <td>42704</td>\n",
       "      <td>34</td>\n",
       "      <td>0</td>\n",
       "    </tr>\n",
       "    <tr>\n",
       "      <th>20</th>\n",
       "      <td>1</td>\n",
       "      <td>5</td>\n",
       "      <td>1</td>\n",
       "      <td>2</td>\n",
       "      <td>0</td>\n",
       "      <td>0</td>\n",
       "      <td>31323</td>\n",
       "      <td>25</td>\n",
       "      <td>1</td>\n",
       "    </tr>\n",
       "    <tr>\n",
       "      <th>21</th>\n",
       "      <td>4</td>\n",
       "      <td>2</td>\n",
       "      <td>1</td>\n",
       "      <td>0</td>\n",
       "      <td>0</td>\n",
       "      <td>1</td>\n",
       "      <td>61350</td>\n",
       "      <td>35</td>\n",
       "      <td>1</td>\n",
       "    </tr>\n",
       "    <tr>\n",
       "      <th>22</th>\n",
       "      <td>1</td>\n",
       "      <td>1</td>\n",
       "      <td>1</td>\n",
       "      <td>4</td>\n",
       "      <td>5</td>\n",
       "      <td>5</td>\n",
       "      <td>148087</td>\n",
       "      <td>25</td>\n",
       "      <td>1</td>\n",
       "    </tr>\n",
       "    <tr>\n",
       "      <th>23</th>\n",
       "      <td>5</td>\n",
       "      <td>2</td>\n",
       "      <td>1</td>\n",
       "      <td>0</td>\n",
       "      <td>0</td>\n",
       "      <td>0</td>\n",
       "      <td>112248</td>\n",
       "      <td>32</td>\n",
       "      <td>1</td>\n",
       "    </tr>\n",
       "    <tr>\n",
       "      <th>24</th>\n",
       "      <td>5</td>\n",
       "      <td>1</td>\n",
       "      <td>0</td>\n",
       "      <td>0</td>\n",
       "      <td>0</td>\n",
       "      <td>5</td>\n",
       "      <td>94217</td>\n",
       "      <td>29</td>\n",
       "      <td>1</td>\n",
       "    </tr>\n",
       "    <tr>\n",
       "      <th>25</th>\n",
       "      <td>5</td>\n",
       "      <td>3</td>\n",
       "      <td>1</td>\n",
       "      <td>2</td>\n",
       "      <td>0</td>\n",
       "      <td>4</td>\n",
       "      <td>122711</td>\n",
       "      <td>61</td>\n",
       "      <td>0</td>\n",
       "    </tr>\n",
       "    <tr>\n",
       "      <th>26</th>\n",
       "      <td>4</td>\n",
       "      <td>2</td>\n",
       "      <td>1</td>\n",
       "      <td>1</td>\n",
       "      <td>1</td>\n",
       "      <td>1</td>\n",
       "      <td>58716</td>\n",
       "      <td>28</td>\n",
       "      <td>1</td>\n",
       "    </tr>\n",
       "    <tr>\n",
       "      <th>27</th>\n",
       "      <td>3</td>\n",
       "      <td>1</td>\n",
       "      <td>1</td>\n",
       "      <td>2</td>\n",
       "      <td>3</td>\n",
       "      <td>4</td>\n",
       "      <td>128140</td>\n",
       "      <td>35</td>\n",
       "      <td>0</td>\n",
       "    </tr>\n",
       "    <tr>\n",
       "      <th>28</th>\n",
       "      <td>4</td>\n",
       "      <td>1</td>\n",
       "      <td>0</td>\n",
       "      <td>1</td>\n",
       "      <td>0</td>\n",
       "      <td>0</td>\n",
       "      <td>101320</td>\n",
       "      <td>35</td>\n",
       "      <td>0</td>\n",
       "    </tr>\n",
       "    <tr>\n",
       "      <th>29</th>\n",
       "      <td>5</td>\n",
       "      <td>3</td>\n",
       "      <td>1</td>\n",
       "      <td>3</td>\n",
       "      <td>0</td>\n",
       "      <td>1</td>\n",
       "      <td>150227</td>\n",
       "      <td>30</td>\n",
       "      <td>1</td>\n",
       "    </tr>\n",
       "    <tr>\n",
       "      <th>...</th>\n",
       "      <td>...</td>\n",
       "      <td>...</td>\n",
       "      <td>...</td>\n",
       "      <td>...</td>\n",
       "      <td>...</td>\n",
       "      <td>...</td>\n",
       "      <td>...</td>\n",
       "      <td>...</td>\n",
       "      <td>...</td>\n",
       "    </tr>\n",
       "    <tr>\n",
       "      <th>470</th>\n",
       "      <td>4</td>\n",
       "      <td>1</td>\n",
       "      <td>0</td>\n",
       "      <td>3</td>\n",
       "      <td>0</td>\n",
       "      <td>0</td>\n",
       "      <td>89480</td>\n",
       "      <td>24</td>\n",
       "      <td>0</td>\n",
       "    </tr>\n",
       "    <tr>\n",
       "      <th>471</th>\n",
       "      <td>5</td>\n",
       "      <td>1</td>\n",
       "      <td>1</td>\n",
       "      <td>0</td>\n",
       "      <td>0</td>\n",
       "      <td>5</td>\n",
       "      <td>122608</td>\n",
       "      <td>29</td>\n",
       "      <td>1</td>\n",
       "    </tr>\n",
       "    <tr>\n",
       "      <th>472</th>\n",
       "      <td>2</td>\n",
       "      <td>1</td>\n",
       "      <td>1</td>\n",
       "      <td>2</td>\n",
       "      <td>1</td>\n",
       "      <td>3</td>\n",
       "      <td>128720</td>\n",
       "      <td>44</td>\n",
       "      <td>0</td>\n",
       "    </tr>\n",
       "    <tr>\n",
       "      <th>473</th>\n",
       "      <td>3</td>\n",
       "      <td>4</td>\n",
       "      <td>1</td>\n",
       "      <td>1</td>\n",
       "      <td>0</td>\n",
       "      <td>1</td>\n",
       "      <td>64468</td>\n",
       "      <td>42</td>\n",
       "      <td>1</td>\n",
       "    </tr>\n",
       "    <tr>\n",
       "      <th>474</th>\n",
       "      <td>3</td>\n",
       "      <td>5</td>\n",
       "      <td>0</td>\n",
       "      <td>1</td>\n",
       "      <td>0</td>\n",
       "      <td>0</td>\n",
       "      <td>19194</td>\n",
       "      <td>29</td>\n",
       "      <td>0</td>\n",
       "    </tr>\n",
       "    <tr>\n",
       "      <th>475</th>\n",
       "      <td>3</td>\n",
       "      <td>2</td>\n",
       "      <td>1</td>\n",
       "      <td>2</td>\n",
       "      <td>0</td>\n",
       "      <td>0</td>\n",
       "      <td>50494</td>\n",
       "      <td>23</td>\n",
       "      <td>0</td>\n",
       "    </tr>\n",
       "    <tr>\n",
       "      <th>476</th>\n",
       "      <td>4</td>\n",
       "      <td>4</td>\n",
       "      <td>0</td>\n",
       "      <td>0</td>\n",
       "      <td>0</td>\n",
       "      <td>1</td>\n",
       "      <td>65238</td>\n",
       "      <td>57</td>\n",
       "      <td>0</td>\n",
       "    </tr>\n",
       "    <tr>\n",
       "      <th>477</th>\n",
       "      <td>5</td>\n",
       "      <td>3</td>\n",
       "      <td>0</td>\n",
       "      <td>4</td>\n",
       "      <td>4</td>\n",
       "      <td>4</td>\n",
       "      <td>178373</td>\n",
       "      <td>53</td>\n",
       "      <td>1</td>\n",
       "    </tr>\n",
       "    <tr>\n",
       "      <th>478</th>\n",
       "      <td>4</td>\n",
       "      <td>3</td>\n",
       "      <td>0</td>\n",
       "      <td>4</td>\n",
       "      <td>4</td>\n",
       "      <td>4</td>\n",
       "      <td>167054</td>\n",
       "      <td>52</td>\n",
       "      <td>0</td>\n",
       "    </tr>\n",
       "    <tr>\n",
       "      <th>479</th>\n",
       "      <td>3</td>\n",
       "      <td>2</td>\n",
       "      <td>1</td>\n",
       "      <td>3</td>\n",
       "      <td>4</td>\n",
       "      <td>5</td>\n",
       "      <td>100653</td>\n",
       "      <td>38</td>\n",
       "      <td>1</td>\n",
       "    </tr>\n",
       "    <tr>\n",
       "      <th>480</th>\n",
       "      <td>4</td>\n",
       "      <td>3</td>\n",
       "      <td>1</td>\n",
       "      <td>0</td>\n",
       "      <td>3</td>\n",
       "      <td>5</td>\n",
       "      <td>171379</td>\n",
       "      <td>35</td>\n",
       "      <td>1</td>\n",
       "    </tr>\n",
       "    <tr>\n",
       "      <th>481</th>\n",
       "      <td>3</td>\n",
       "      <td>2</td>\n",
       "      <td>1</td>\n",
       "      <td>1</td>\n",
       "      <td>0</td>\n",
       "      <td>1</td>\n",
       "      <td>89465</td>\n",
       "      <td>37</td>\n",
       "      <td>1</td>\n",
       "    </tr>\n",
       "    <tr>\n",
       "      <th>482</th>\n",
       "      <td>2</td>\n",
       "      <td>3</td>\n",
       "      <td>1</td>\n",
       "      <td>4</td>\n",
       "      <td>5</td>\n",
       "      <td>5</td>\n",
       "      <td>115361</td>\n",
       "      <td>28</td>\n",
       "      <td>1</td>\n",
       "    </tr>\n",
       "    <tr>\n",
       "      <th>483</th>\n",
       "      <td>5</td>\n",
       "      <td>4</td>\n",
       "      <td>1</td>\n",
       "      <td>0</td>\n",
       "      <td>0</td>\n",
       "      <td>0</td>\n",
       "      <td>90438</td>\n",
       "      <td>29</td>\n",
       "      <td>0</td>\n",
       "    </tr>\n",
       "    <tr>\n",
       "      <th>484</th>\n",
       "      <td>3</td>\n",
       "      <td>4</td>\n",
       "      <td>1</td>\n",
       "      <td>1</td>\n",
       "      <td>0</td>\n",
       "      <td>1</td>\n",
       "      <td>53572</td>\n",
       "      <td>44</td>\n",
       "      <td>1</td>\n",
       "    </tr>\n",
       "    <tr>\n",
       "      <th>485</th>\n",
       "      <td>3</td>\n",
       "      <td>5</td>\n",
       "      <td>0</td>\n",
       "      <td>1</td>\n",
       "      <td>0</td>\n",
       "      <td>3</td>\n",
       "      <td>13511</td>\n",
       "      <td>55</td>\n",
       "      <td>0</td>\n",
       "    </tr>\n",
       "    <tr>\n",
       "      <th>486</th>\n",
       "      <td>3</td>\n",
       "      <td>3</td>\n",
       "      <td>1</td>\n",
       "      <td>3</td>\n",
       "      <td>5</td>\n",
       "      <td>5</td>\n",
       "      <td>156982</td>\n",
       "      <td>49</td>\n",
       "      <td>1</td>\n",
       "    </tr>\n",
       "    <tr>\n",
       "      <th>487</th>\n",
       "      <td>5</td>\n",
       "      <td>1</td>\n",
       "      <td>1</td>\n",
       "      <td>0</td>\n",
       "      <td>0</td>\n",
       "      <td>0</td>\n",
       "      <td>81160</td>\n",
       "      <td>33</td>\n",
       "      <td>1</td>\n",
       "    </tr>\n",
       "    <tr>\n",
       "      <th>488</th>\n",
       "      <td>4</td>\n",
       "      <td>3</td>\n",
       "      <td>1</td>\n",
       "      <td>0</td>\n",
       "      <td>1</td>\n",
       "      <td>2</td>\n",
       "      <td>87335</td>\n",
       "      <td>50</td>\n",
       "      <td>1</td>\n",
       "    </tr>\n",
       "    <tr>\n",
       "      <th>489</th>\n",
       "      <td>4</td>\n",
       "      <td>3</td>\n",
       "      <td>0</td>\n",
       "      <td>4</td>\n",
       "      <td>3</td>\n",
       "      <td>3</td>\n",
       "      <td>133419</td>\n",
       "      <td>40</td>\n",
       "      <td>1</td>\n",
       "    </tr>\n",
       "    <tr>\n",
       "      <th>490</th>\n",
       "      <td>3</td>\n",
       "      <td>4</td>\n",
       "      <td>1</td>\n",
       "      <td>2</td>\n",
       "      <td>3</td>\n",
       "      <td>3</td>\n",
       "      <td>45885</td>\n",
       "      <td>20</td>\n",
       "      <td>0</td>\n",
       "    </tr>\n",
       "    <tr>\n",
       "      <th>491</th>\n",
       "      <td>4</td>\n",
       "      <td>1</td>\n",
       "      <td>1</td>\n",
       "      <td>4</td>\n",
       "      <td>5</td>\n",
       "      <td>5</td>\n",
       "      <td>82935</td>\n",
       "      <td>31</td>\n",
       "      <td>0</td>\n",
       "    </tr>\n",
       "    <tr>\n",
       "      <th>492</th>\n",
       "      <td>4</td>\n",
       "      <td>3</td>\n",
       "      <td>1</td>\n",
       "      <td>4</td>\n",
       "      <td>4</td>\n",
       "      <td>4</td>\n",
       "      <td>176428</td>\n",
       "      <td>54</td>\n",
       "      <td>1</td>\n",
       "    </tr>\n",
       "    <tr>\n",
       "      <th>493</th>\n",
       "      <td>3</td>\n",
       "      <td>1</td>\n",
       "      <td>1</td>\n",
       "      <td>2</td>\n",
       "      <td>2</td>\n",
       "      <td>4</td>\n",
       "      <td>105288</td>\n",
       "      <td>45</td>\n",
       "      <td>1</td>\n",
       "    </tr>\n",
       "    <tr>\n",
       "      <th>494</th>\n",
       "      <td>5</td>\n",
       "      <td>1</td>\n",
       "      <td>0</td>\n",
       "      <td>0</td>\n",
       "      <td>0</td>\n",
       "      <td>2</td>\n",
       "      <td>106829</td>\n",
       "      <td>29</td>\n",
       "      <td>1</td>\n",
       "    </tr>\n",
       "    <tr>\n",
       "      <th>495</th>\n",
       "      <td>5</td>\n",
       "      <td>2</td>\n",
       "      <td>0</td>\n",
       "      <td>0</td>\n",
       "      <td>0</td>\n",
       "      <td>0</td>\n",
       "      <td>97084</td>\n",
       "      <td>29</td>\n",
       "      <td>0</td>\n",
       "    </tr>\n",
       "    <tr>\n",
       "      <th>496</th>\n",
       "      <td>3</td>\n",
       "      <td>3</td>\n",
       "      <td>0</td>\n",
       "      <td>4</td>\n",
       "      <td>4</td>\n",
       "      <td>4</td>\n",
       "      <td>110762</td>\n",
       "      <td>48</td>\n",
       "      <td>0</td>\n",
       "    </tr>\n",
       "    <tr>\n",
       "      <th>497</th>\n",
       "      <td>4</td>\n",
       "      <td>3</td>\n",
       "      <td>0</td>\n",
       "      <td>4</td>\n",
       "      <td>3</td>\n",
       "      <td>3</td>\n",
       "      <td>138097</td>\n",
       "      <td>61</td>\n",
       "      <td>0</td>\n",
       "    </tr>\n",
       "    <tr>\n",
       "      <th>498</th>\n",
       "      <td>3</td>\n",
       "      <td>1</td>\n",
       "      <td>1</td>\n",
       "      <td>1</td>\n",
       "      <td>0</td>\n",
       "      <td>2</td>\n",
       "      <td>101465</td>\n",
       "      <td>41</td>\n",
       "      <td>1</td>\n",
       "    </tr>\n",
       "    <tr>\n",
       "      <th>499</th>\n",
       "      <td>2</td>\n",
       "      <td>2</td>\n",
       "      <td>0</td>\n",
       "      <td>2</td>\n",
       "      <td>0</td>\n",
       "      <td>4</td>\n",
       "      <td>19108</td>\n",
       "      <td>51</td>\n",
       "      <td>0</td>\n",
       "    </tr>\n",
       "  </tbody>\n",
       "</table>\n",
       "<p>500 rows × 9 columns</p>\n",
       "</div>"
      ],
      "text/plain": [
       "     Education  Occupation  HomeOwnerFlag  NumberCarsOwned  \\\n",
       "0            4           3              0                2   \n",
       "1            4           2              1                2   \n",
       "2            5           3              1                2   \n",
       "3            5           2              1                0   \n",
       "4            2           5              1                1   \n",
       "5            3           4              1                1   \n",
       "6            4           2              1                2   \n",
       "7            4           1              1                3   \n",
       "8            1           5              1                1   \n",
       "9            4           2              1                1   \n",
       "10           2           1              1                1   \n",
       "11           3           1              1                2   \n",
       "12           2           2              1                2   \n",
       "13           2           1              1                2   \n",
       "14           3           2              1                1   \n",
       "15           5           1              1                0   \n",
       "16           5           2              1                0   \n",
       "17           1           2              1                2   \n",
       "18           3           3              1                3   \n",
       "19           3           4              1                2   \n",
       "20           1           5              1                2   \n",
       "21           4           2              1                0   \n",
       "22           1           1              1                4   \n",
       "23           5           2              1                0   \n",
       "24           5           1              0                0   \n",
       "25           5           3              1                2   \n",
       "26           4           2              1                1   \n",
       "27           3           1              1                2   \n",
       "28           4           1              0                1   \n",
       "29           5           3              1                3   \n",
       "..         ...         ...            ...              ...   \n",
       "470          4           1              0                3   \n",
       "471          5           1              1                0   \n",
       "472          2           1              1                2   \n",
       "473          3           4              1                1   \n",
       "474          3           5              0                1   \n",
       "475          3           2              1                2   \n",
       "476          4           4              0                0   \n",
       "477          5           3              0                4   \n",
       "478          4           3              0                4   \n",
       "479          3           2              1                3   \n",
       "480          4           3              1                0   \n",
       "481          3           2              1                1   \n",
       "482          2           3              1                4   \n",
       "483          5           4              1                0   \n",
       "484          3           4              1                1   \n",
       "485          3           5              0                1   \n",
       "486          3           3              1                3   \n",
       "487          5           1              1                0   \n",
       "488          4           3              1                0   \n",
       "489          4           3              0                4   \n",
       "490          3           4              1                2   \n",
       "491          4           1              1                4   \n",
       "492          4           3              1                4   \n",
       "493          3           1              1                2   \n",
       "494          5           1              0                0   \n",
       "495          5           2              0                0   \n",
       "496          3           3              0                4   \n",
       "497          4           3              0                4   \n",
       "498          3           1              1                1   \n",
       "499          2           2              0                2   \n",
       "\n",
       "     NumberChildrenAtHome  TotalChildren  YearlyIncome  Age  Married  \n",
       "0                       0              5         86931   53        0  \n",
       "1                       2              4        100125   34        1  \n",
       "2                       0              4        103985   64        1  \n",
       "3                       0              4        127161   40        1  \n",
       "4                       2              2         21876   33        1  \n",
       "5                       0              1         44467   41        1  \n",
       "6                       2              4         77702   34        0  \n",
       "7                       4              4         99418   34        1  \n",
       "8                       4              4         13522   32        0  \n",
       "9                       1              1         46264   25        1  \n",
       "10                      1              2         96375   43        0  \n",
       "11                      0              3         77688   42        1  \n",
       "12                      0              2         52127   42        1  \n",
       "13                      0              4         60978   49        1  \n",
       "14                      0              0         36915   19        0  \n",
       "15                      0              0         86445   32        1  \n",
       "16                      0              4        113658   39        1  \n",
       "17                      0              2         83326   41        0  \n",
       "18                      5              5        142823   25        0  \n",
       "19                      2              2         42704   34        0  \n",
       "20                      0              0         31323   25        1  \n",
       "21                      0              1         61350   35        1  \n",
       "22                      5              5        148087   25        1  \n",
       "23                      0              0        112248   32        1  \n",
       "24                      0              5         94217   29        1  \n",
       "25                      0              4        122711   61        0  \n",
       "26                      1              1         58716   28        1  \n",
       "27                      3              4        128140   35        0  \n",
       "28                      0              0        101320   35        0  \n",
       "29                      0              1        150227   30        1  \n",
       "..                    ...            ...           ...  ...      ...  \n",
       "470                     0              0         89480   24        0  \n",
       "471                     0              5        122608   29        1  \n",
       "472                     1              3        128720   44        0  \n",
       "473                     0              1         64468   42        1  \n",
       "474                     0              0         19194   29        0  \n",
       "475                     0              0         50494   23        0  \n",
       "476                     0              1         65238   57        0  \n",
       "477                     4              4        178373   53        1  \n",
       "478                     4              4        167054   52        0  \n",
       "479                     4              5        100653   38        1  \n",
       "480                     3              5        171379   35        1  \n",
       "481                     0              1         89465   37        1  \n",
       "482                     5              5        115361   28        1  \n",
       "483                     0              0         90438   29        0  \n",
       "484                     0              1         53572   44        1  \n",
       "485                     0              3         13511   55        0  \n",
       "486                     5              5        156982   49        1  \n",
       "487                     0              0         81160   33        1  \n",
       "488                     1              2         87335   50        1  \n",
       "489                     3              3        133419   40        1  \n",
       "490                     3              3         45885   20        0  \n",
       "491                     5              5         82935   31        0  \n",
       "492                     4              4        176428   54        1  \n",
       "493                     2              4        105288   45        1  \n",
       "494                     0              2        106829   29        1  \n",
       "495                     0              0         97084   29        0  \n",
       "496                     4              4        110762   48        0  \n",
       "497                     3              3        138097   61        0  \n",
       "498                     0              2        101465   41        1  \n",
       "499                     0              4         19108   51        0  \n",
       "\n",
       "[500 rows x 9 columns]"
      ]
     },
     "execution_count": 125,
     "metadata": {},
     "output_type": "execute_result"
    }
   ],
   "source": [
    "X"
   ]
  },
  {
   "cell_type": "code",
   "execution_count": 126,
   "metadata": {},
   "outputs": [
    {
     "data": {
      "text/plain": [
       "pandas.core.frame.DataFrame"
      ]
     },
     "execution_count": 126,
     "metadata": {},
     "output_type": "execute_result"
    }
   ],
   "source": [
    "type(X)"
   ]
  },
  {
   "cell_type": "code",
   "execution_count": 127,
   "metadata": {},
   "outputs": [
    {
     "data": {
      "text/plain": [
       "pandas.core.series.Series"
      ]
     },
     "execution_count": 127,
     "metadata": {},
     "output_type": "execute_result"
    }
   ],
   "source": [
    "type(y)"
   ]
  },
  {
   "cell_type": "code",
   "execution_count": null,
   "metadata": {
    "collapsed": true
   },
   "outputs": [],
   "source": []
  }
 ],
 "metadata": {
  "kernelspec": {
   "display_name": "Python 3",
   "language": "python",
   "name": "python3"
  },
  "language_info": {
   "codemirror_mode": {
    "name": "ipython",
    "version": 3
   },
   "file_extension": ".py",
   "mimetype": "text/x-python",
   "name": "python",
   "nbconvert_exporter": "python",
   "pygments_lexer": "ipython3",
   "version": "3.6.3"
  }
 },
 "nbformat": 4,
 "nbformat_minor": 2
}
